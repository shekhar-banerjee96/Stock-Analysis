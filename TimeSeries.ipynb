{
 "cells": [
  {
   "cell_type": "code",
   "execution_count": 264,
   "metadata": {},
   "outputs": [],
   "source": [
    "import numpy as np\n",
    "import pandas as pd\n",
    "import matplotlib.pyplot as plt\n",
    "import seaborn as sns  \n",
    "%matplotlib inline\n",
    "sns.set()\n",
    "\n",
    "import warnings\n",
    "warnings.filterwarnings(action='ignore')\n",
    "\n",
    "from sklearn.exceptions import ConvergenceWarning\n",
    "ConvergenceWarning('ignore')\n",
    "\n",
    "from datetime import datetime\n",
    "\n",
    "import plotly.express as px\n",
    "import plotly.graph_objects as go\n",
    "\n",
    "from sklearn.metrics import mean_absolute_percentage_error\n"
   ]
  },
  {
   "cell_type": "markdown",
   "metadata": {},
   "source": [
    "### 5 pre-requisite rule\n",
    "1) Every data should be numeric in nature, not in categorical type.\n",
    "2) Data Type is correct or not - make sure you have DateTime column and Target variable (VWAP)\n",
    "3) There should not be any missing data, if yes, first impute and then try to solve TSF\n",
    "4) Data should be sequential order (DATETIME Columns) - TimeSeries always in an ascending order\n",
    "5) We have to check whether in the given dataset - do we have Trend, Seasonality, Cyclicity and Irregular (Noise/Error)\n"
   ]
  },
  {
   "cell_type": "code",
   "execution_count": 265,
   "metadata": {},
   "outputs": [],
   "source": [
    "import yfinance as yf\n",
    "\n",
    "stk = yf.Ticker(\"TSLA\")"
   ]
  },
  {
   "cell_type": "code",
   "execution_count": 266,
   "metadata": {},
   "outputs": [],
   "source": [
    "stk_info = pd.DataFrame.from_dict(stk.info, orient='index',columns=['Info'])"
   ]
  },
  {
   "cell_type": "code",
   "execution_count": 267,
   "metadata": {},
   "outputs": [],
   "source": [
    "avg_vol = stk_info[stk_info.index == 'averageVolume']"
   ]
  },
  {
   "cell_type": "code",
   "execution_count": 268,
   "metadata": {},
   "outputs": [],
   "source": [
    "stk_hist = stk.history(period = '5y').asfreq('B')"
   ]
  },
  {
   "cell_type": "code",
   "execution_count": 269,
   "metadata": {},
   "outputs": [],
   "source": [
    "stk_hist.fillna(method='bfill',inplace=True)  # Fill NaNs if there are gaps"
   ]
  },
  {
   "cell_type": "code",
   "execution_count": 270,
   "metadata": {},
   "outputs": [
    {
     "data": {
      "text/html": [
       "<div>\n",
       "<style scoped>\n",
       "    .dataframe tbody tr th:only-of-type {\n",
       "        vertical-align: middle;\n",
       "    }\n",
       "\n",
       "    .dataframe tbody tr th {\n",
       "        vertical-align: top;\n",
       "    }\n",
       "\n",
       "    .dataframe thead th {\n",
       "        text-align: right;\n",
       "    }\n",
       "</style>\n",
       "<table border=\"1\" class=\"dataframe\">\n",
       "  <thead>\n",
       "    <tr style=\"text-align: right;\">\n",
       "      <th></th>\n",
       "      <th>Open</th>\n",
       "      <th>High</th>\n",
       "      <th>Low</th>\n",
       "      <th>Close</th>\n",
       "      <th>Volume</th>\n",
       "      <th>Dividends</th>\n",
       "      <th>Stock Splits</th>\n",
       "    </tr>\n",
       "    <tr>\n",
       "      <th>Date</th>\n",
       "      <th></th>\n",
       "      <th></th>\n",
       "      <th></th>\n",
       "      <th></th>\n",
       "      <th></th>\n",
       "      <th></th>\n",
       "      <th></th>\n",
       "    </tr>\n",
       "  </thead>\n",
       "  <tbody>\n",
       "    <tr>\n",
       "      <th>2019-11-14 00:00:00-05:00</th>\n",
       "      <td>23.073999</td>\n",
       "      <td>23.589333</td>\n",
       "      <td>22.860666</td>\n",
       "      <td>23.290001</td>\n",
       "      <td>96973500.0</td>\n",
       "      <td>0.0</td>\n",
       "      <td>0.0</td>\n",
       "    </tr>\n",
       "    <tr>\n",
       "      <th>2019-11-15 00:00:00-05:00</th>\n",
       "      <td>23.375999</td>\n",
       "      <td>23.520000</td>\n",
       "      <td>23.224001</td>\n",
       "      <td>23.478001</td>\n",
       "      <td>72135000.0</td>\n",
       "      <td>0.0</td>\n",
       "      <td>0.0</td>\n",
       "    </tr>\n",
       "    <tr>\n",
       "      <th>2019-11-18 00:00:00-05:00</th>\n",
       "      <td>23.528000</td>\n",
       "      <td>23.543333</td>\n",
       "      <td>23.073334</td>\n",
       "      <td>23.332666</td>\n",
       "      <td>66006000.0</td>\n",
       "      <td>0.0</td>\n",
       "      <td>0.0</td>\n",
       "    </tr>\n",
       "    <tr>\n",
       "      <th>2019-11-19 00:00:00-05:00</th>\n",
       "      <td>23.450001</td>\n",
       "      <td>23.999332</td>\n",
       "      <td>23.186666</td>\n",
       "      <td>23.968000</td>\n",
       "      <td>115872000.0</td>\n",
       "      <td>0.0</td>\n",
       "      <td>0.0</td>\n",
       "    </tr>\n",
       "    <tr>\n",
       "      <th>2019-11-20 00:00:00-05:00</th>\n",
       "      <td>24.000000</td>\n",
       "      <td>24.080000</td>\n",
       "      <td>23.304667</td>\n",
       "      <td>23.481333</td>\n",
       "      <td>100876500.0</td>\n",
       "      <td>0.0</td>\n",
       "      <td>0.0</td>\n",
       "    </tr>\n",
       "    <tr>\n",
       "      <th>2019-11-21 00:00:00-05:00</th>\n",
       "      <td>23.634001</td>\n",
       "      <td>24.056000</td>\n",
       "      <td>23.600000</td>\n",
       "      <td>23.655333</td>\n",
       "      <td>91650000.0</td>\n",
       "      <td>0.0</td>\n",
       "      <td>0.0</td>\n",
       "    </tr>\n",
       "    <tr>\n",
       "      <th>2019-11-22 00:00:00-05:00</th>\n",
       "      <td>22.677334</td>\n",
       "      <td>22.733334</td>\n",
       "      <td>22.000000</td>\n",
       "      <td>22.202667</td>\n",
       "      <td>253059000.0</td>\n",
       "      <td>0.0</td>\n",
       "      <td>0.0</td>\n",
       "    </tr>\n",
       "    <tr>\n",
       "      <th>2019-11-25 00:00:00-05:00</th>\n",
       "      <td>22.954666</td>\n",
       "      <td>22.971333</td>\n",
       "      <td>22.297333</td>\n",
       "      <td>22.422667</td>\n",
       "      <td>185092500.0</td>\n",
       "      <td>0.0</td>\n",
       "      <td>0.0</td>\n",
       "    </tr>\n",
       "    <tr>\n",
       "      <th>2019-11-26 00:00:00-05:00</th>\n",
       "      <td>22.351334</td>\n",
       "      <td>22.366667</td>\n",
       "      <td>21.806667</td>\n",
       "      <td>21.927999</td>\n",
       "      <td>119211000.0</td>\n",
       "      <td>0.0</td>\n",
       "      <td>0.0</td>\n",
       "    </tr>\n",
       "    <tr>\n",
       "      <th>2019-11-27 00:00:00-05:00</th>\n",
       "      <td>22.074667</td>\n",
       "      <td>22.261999</td>\n",
       "      <td>21.904667</td>\n",
       "      <td>22.086000</td>\n",
       "      <td>83334000.0</td>\n",
       "      <td>0.0</td>\n",
       "      <td>0.0</td>\n",
       "    </tr>\n",
       "  </tbody>\n",
       "</table>\n",
       "</div>"
      ],
      "text/plain": [
       "                                Open       High        Low      Close  \\\n",
       "Date                                                                    \n",
       "2019-11-14 00:00:00-05:00  23.073999  23.589333  22.860666  23.290001   \n",
       "2019-11-15 00:00:00-05:00  23.375999  23.520000  23.224001  23.478001   \n",
       "2019-11-18 00:00:00-05:00  23.528000  23.543333  23.073334  23.332666   \n",
       "2019-11-19 00:00:00-05:00  23.450001  23.999332  23.186666  23.968000   \n",
       "2019-11-20 00:00:00-05:00  24.000000  24.080000  23.304667  23.481333   \n",
       "2019-11-21 00:00:00-05:00  23.634001  24.056000  23.600000  23.655333   \n",
       "2019-11-22 00:00:00-05:00  22.677334  22.733334  22.000000  22.202667   \n",
       "2019-11-25 00:00:00-05:00  22.954666  22.971333  22.297333  22.422667   \n",
       "2019-11-26 00:00:00-05:00  22.351334  22.366667  21.806667  21.927999   \n",
       "2019-11-27 00:00:00-05:00  22.074667  22.261999  21.904667  22.086000   \n",
       "\n",
       "                                Volume  Dividends  Stock Splits  \n",
       "Date                                                             \n",
       "2019-11-14 00:00:00-05:00   96973500.0        0.0           0.0  \n",
       "2019-11-15 00:00:00-05:00   72135000.0        0.0           0.0  \n",
       "2019-11-18 00:00:00-05:00   66006000.0        0.0           0.0  \n",
       "2019-11-19 00:00:00-05:00  115872000.0        0.0           0.0  \n",
       "2019-11-20 00:00:00-05:00  100876500.0        0.0           0.0  \n",
       "2019-11-21 00:00:00-05:00   91650000.0        0.0           0.0  \n",
       "2019-11-22 00:00:00-05:00  253059000.0        0.0           0.0  \n",
       "2019-11-25 00:00:00-05:00  185092500.0        0.0           0.0  \n",
       "2019-11-26 00:00:00-05:00  119211000.0        0.0           0.0  \n",
       "2019-11-27 00:00:00-05:00   83334000.0        0.0           0.0  "
      ]
     },
     "execution_count": 270,
     "metadata": {},
     "output_type": "execute_result"
    }
   ],
   "source": [
    "stk_hist.head(10)"
   ]
  },
  {
   "cell_type": "code",
   "execution_count": 271,
   "metadata": {},
   "outputs": [],
   "source": [
    "stk_hist.index = pd.to_datetime(stk_hist.index)"
   ]
  },
  {
   "cell_type": "code",
   "execution_count": 272,
   "metadata": {},
   "outputs": [
    {
     "data": {
      "text/html": [
       "<div>\n",
       "<style scoped>\n",
       "    .dataframe tbody tr th:only-of-type {\n",
       "        vertical-align: middle;\n",
       "    }\n",
       "\n",
       "    .dataframe tbody tr th {\n",
       "        vertical-align: top;\n",
       "    }\n",
       "\n",
       "    .dataframe thead th {\n",
       "        text-align: right;\n",
       "    }\n",
       "</style>\n",
       "<table border=\"1\" class=\"dataframe\">\n",
       "  <thead>\n",
       "    <tr style=\"text-align: right;\">\n",
       "      <th></th>\n",
       "      <th>Open</th>\n",
       "      <th>High</th>\n",
       "      <th>Low</th>\n",
       "      <th>Close</th>\n",
       "      <th>Volume</th>\n",
       "      <th>Dividends</th>\n",
       "      <th>Stock Splits</th>\n",
       "    </tr>\n",
       "    <tr>\n",
       "      <th>Date</th>\n",
       "      <th></th>\n",
       "      <th></th>\n",
       "      <th></th>\n",
       "      <th></th>\n",
       "      <th></th>\n",
       "      <th></th>\n",
       "      <th></th>\n",
       "    </tr>\n",
       "  </thead>\n",
       "  <tbody>\n",
       "    <tr>\n",
       "      <th>2019-11-14 00:00:00-05:00</th>\n",
       "      <td>23.073999</td>\n",
       "      <td>23.589333</td>\n",
       "      <td>22.860666</td>\n",
       "      <td>23.290001</td>\n",
       "      <td>96973500.0</td>\n",
       "      <td>0.0</td>\n",
       "      <td>0.0</td>\n",
       "    </tr>\n",
       "    <tr>\n",
       "      <th>2019-11-15 00:00:00-05:00</th>\n",
       "      <td>23.375999</td>\n",
       "      <td>23.520000</td>\n",
       "      <td>23.224001</td>\n",
       "      <td>23.478001</td>\n",
       "      <td>72135000.0</td>\n",
       "      <td>0.0</td>\n",
       "      <td>0.0</td>\n",
       "    </tr>\n",
       "    <tr>\n",
       "      <th>2019-11-18 00:00:00-05:00</th>\n",
       "      <td>23.528000</td>\n",
       "      <td>23.543333</td>\n",
       "      <td>23.073334</td>\n",
       "      <td>23.332666</td>\n",
       "      <td>66006000.0</td>\n",
       "      <td>0.0</td>\n",
       "      <td>0.0</td>\n",
       "    </tr>\n",
       "    <tr>\n",
       "      <th>2019-11-19 00:00:00-05:00</th>\n",
       "      <td>23.450001</td>\n",
       "      <td>23.999332</td>\n",
       "      <td>23.186666</td>\n",
       "      <td>23.968000</td>\n",
       "      <td>115872000.0</td>\n",
       "      <td>0.0</td>\n",
       "      <td>0.0</td>\n",
       "    </tr>\n",
       "    <tr>\n",
       "      <th>2019-11-20 00:00:00-05:00</th>\n",
       "      <td>24.000000</td>\n",
       "      <td>24.080000</td>\n",
       "      <td>23.304667</td>\n",
       "      <td>23.481333</td>\n",
       "      <td>100876500.0</td>\n",
       "      <td>0.0</td>\n",
       "      <td>0.0</td>\n",
       "    </tr>\n",
       "    <tr>\n",
       "      <th>2019-11-21 00:00:00-05:00</th>\n",
       "      <td>23.634001</td>\n",
       "      <td>24.056000</td>\n",
       "      <td>23.600000</td>\n",
       "      <td>23.655333</td>\n",
       "      <td>91650000.0</td>\n",
       "      <td>0.0</td>\n",
       "      <td>0.0</td>\n",
       "    </tr>\n",
       "    <tr>\n",
       "      <th>2019-11-22 00:00:00-05:00</th>\n",
       "      <td>22.677334</td>\n",
       "      <td>22.733334</td>\n",
       "      <td>22.000000</td>\n",
       "      <td>22.202667</td>\n",
       "      <td>253059000.0</td>\n",
       "      <td>0.0</td>\n",
       "      <td>0.0</td>\n",
       "    </tr>\n",
       "    <tr>\n",
       "      <th>2019-11-25 00:00:00-05:00</th>\n",
       "      <td>22.954666</td>\n",
       "      <td>22.971333</td>\n",
       "      <td>22.297333</td>\n",
       "      <td>22.422667</td>\n",
       "      <td>185092500.0</td>\n",
       "      <td>0.0</td>\n",
       "      <td>0.0</td>\n",
       "    </tr>\n",
       "    <tr>\n",
       "      <th>2019-11-26 00:00:00-05:00</th>\n",
       "      <td>22.351334</td>\n",
       "      <td>22.366667</td>\n",
       "      <td>21.806667</td>\n",
       "      <td>21.927999</td>\n",
       "      <td>119211000.0</td>\n",
       "      <td>0.0</td>\n",
       "      <td>0.0</td>\n",
       "    </tr>\n",
       "    <tr>\n",
       "      <th>2019-11-27 00:00:00-05:00</th>\n",
       "      <td>22.074667</td>\n",
       "      <td>22.261999</td>\n",
       "      <td>21.904667</td>\n",
       "      <td>22.086000</td>\n",
       "      <td>83334000.0</td>\n",
       "      <td>0.0</td>\n",
       "      <td>0.0</td>\n",
       "    </tr>\n",
       "  </tbody>\n",
       "</table>\n",
       "</div>"
      ],
      "text/plain": [
       "                                Open       High        Low      Close  \\\n",
       "Date                                                                    \n",
       "2019-11-14 00:00:00-05:00  23.073999  23.589333  22.860666  23.290001   \n",
       "2019-11-15 00:00:00-05:00  23.375999  23.520000  23.224001  23.478001   \n",
       "2019-11-18 00:00:00-05:00  23.528000  23.543333  23.073334  23.332666   \n",
       "2019-11-19 00:00:00-05:00  23.450001  23.999332  23.186666  23.968000   \n",
       "2019-11-20 00:00:00-05:00  24.000000  24.080000  23.304667  23.481333   \n",
       "2019-11-21 00:00:00-05:00  23.634001  24.056000  23.600000  23.655333   \n",
       "2019-11-22 00:00:00-05:00  22.677334  22.733334  22.000000  22.202667   \n",
       "2019-11-25 00:00:00-05:00  22.954666  22.971333  22.297333  22.422667   \n",
       "2019-11-26 00:00:00-05:00  22.351334  22.366667  21.806667  21.927999   \n",
       "2019-11-27 00:00:00-05:00  22.074667  22.261999  21.904667  22.086000   \n",
       "\n",
       "                                Volume  Dividends  Stock Splits  \n",
       "Date                                                             \n",
       "2019-11-14 00:00:00-05:00   96973500.0        0.0           0.0  \n",
       "2019-11-15 00:00:00-05:00   72135000.0        0.0           0.0  \n",
       "2019-11-18 00:00:00-05:00   66006000.0        0.0           0.0  \n",
       "2019-11-19 00:00:00-05:00  115872000.0        0.0           0.0  \n",
       "2019-11-20 00:00:00-05:00  100876500.0        0.0           0.0  \n",
       "2019-11-21 00:00:00-05:00   91650000.0        0.0           0.0  \n",
       "2019-11-22 00:00:00-05:00  253059000.0        0.0           0.0  \n",
       "2019-11-25 00:00:00-05:00  185092500.0        0.0           0.0  \n",
       "2019-11-26 00:00:00-05:00  119211000.0        0.0           0.0  \n",
       "2019-11-27 00:00:00-05:00   83334000.0        0.0           0.0  "
      ]
     },
     "execution_count": 272,
     "metadata": {},
     "output_type": "execute_result"
    }
   ],
   "source": [
    "stk_hist.head(10)"
   ]
  },
  {
   "cell_type": "code",
   "execution_count": 273,
   "metadata": {},
   "outputs": [
    {
     "data": {
      "text/html": [
       "<div>\n",
       "<style scoped>\n",
       "    .dataframe tbody tr th:only-of-type {\n",
       "        vertical-align: middle;\n",
       "    }\n",
       "\n",
       "    .dataframe tbody tr th {\n",
       "        vertical-align: top;\n",
       "    }\n",
       "\n",
       "    .dataframe thead th {\n",
       "        text-align: right;\n",
       "    }\n",
       "</style>\n",
       "<table border=\"1\" class=\"dataframe\">\n",
       "  <thead>\n",
       "    <tr style=\"text-align: right;\">\n",
       "      <th></th>\n",
       "      <th>Open</th>\n",
       "      <th>High</th>\n",
       "      <th>Low</th>\n",
       "      <th>Close</th>\n",
       "      <th>Volume</th>\n",
       "      <th>Dividends</th>\n",
       "      <th>Stock Splits</th>\n",
       "    </tr>\n",
       "    <tr>\n",
       "      <th>Date</th>\n",
       "      <th></th>\n",
       "      <th></th>\n",
       "      <th></th>\n",
       "      <th></th>\n",
       "      <th></th>\n",
       "      <th></th>\n",
       "      <th></th>\n",
       "    </tr>\n",
       "  </thead>\n",
       "  <tbody>\n",
       "    <tr>\n",
       "      <th>2024-10-31 00:00:00-04:00</th>\n",
       "      <td>257.989990</td>\n",
       "      <td>259.750000</td>\n",
       "      <td>249.250000</td>\n",
       "      <td>249.850006</td>\n",
       "      <td>66575300.0</td>\n",
       "      <td>0.0</td>\n",
       "      <td>0.0</td>\n",
       "    </tr>\n",
       "    <tr>\n",
       "      <th>2024-11-01 00:00:00-04:00</th>\n",
       "      <td>252.039993</td>\n",
       "      <td>254.000000</td>\n",
       "      <td>246.630005</td>\n",
       "      <td>248.979996</td>\n",
       "      <td>57544800.0</td>\n",
       "      <td>0.0</td>\n",
       "      <td>0.0</td>\n",
       "    </tr>\n",
       "    <tr>\n",
       "      <th>2024-11-04 00:00:00-05:00</th>\n",
       "      <td>244.559998</td>\n",
       "      <td>248.899994</td>\n",
       "      <td>238.880005</td>\n",
       "      <td>242.839996</td>\n",
       "      <td>68802400.0</td>\n",
       "      <td>0.0</td>\n",
       "      <td>0.0</td>\n",
       "    </tr>\n",
       "    <tr>\n",
       "      <th>2024-11-05 00:00:00-05:00</th>\n",
       "      <td>247.339996</td>\n",
       "      <td>255.279999</td>\n",
       "      <td>246.210007</td>\n",
       "      <td>251.440002</td>\n",
       "      <td>69282500.0</td>\n",
       "      <td>0.0</td>\n",
       "      <td>0.0</td>\n",
       "    </tr>\n",
       "    <tr>\n",
       "      <th>2024-11-06 00:00:00-05:00</th>\n",
       "      <td>284.670013</td>\n",
       "      <td>289.589996</td>\n",
       "      <td>275.619995</td>\n",
       "      <td>288.529999</td>\n",
       "      <td>165228700.0</td>\n",
       "      <td>0.0</td>\n",
       "      <td>0.0</td>\n",
       "    </tr>\n",
       "    <tr>\n",
       "      <th>2024-11-07 00:00:00-05:00</th>\n",
       "      <td>288.890015</td>\n",
       "      <td>299.750000</td>\n",
       "      <td>285.519989</td>\n",
       "      <td>296.910004</td>\n",
       "      <td>117309200.0</td>\n",
       "      <td>0.0</td>\n",
       "      <td>0.0</td>\n",
       "    </tr>\n",
       "    <tr>\n",
       "      <th>2024-11-08 00:00:00-05:00</th>\n",
       "      <td>299.140015</td>\n",
       "      <td>328.709991</td>\n",
       "      <td>297.660004</td>\n",
       "      <td>321.220001</td>\n",
       "      <td>204782800.0</td>\n",
       "      <td>0.0</td>\n",
       "      <td>0.0</td>\n",
       "    </tr>\n",
       "    <tr>\n",
       "      <th>2024-11-11 00:00:00-05:00</th>\n",
       "      <td>346.299988</td>\n",
       "      <td>358.640015</td>\n",
       "      <td>336.000000</td>\n",
       "      <td>350.000000</td>\n",
       "      <td>210521600.0</td>\n",
       "      <td>0.0</td>\n",
       "      <td>0.0</td>\n",
       "    </tr>\n",
       "    <tr>\n",
       "      <th>2024-11-12 00:00:00-05:00</th>\n",
       "      <td>342.739990</td>\n",
       "      <td>345.839996</td>\n",
       "      <td>323.309998</td>\n",
       "      <td>328.489990</td>\n",
       "      <td>155726000.0</td>\n",
       "      <td>0.0</td>\n",
       "      <td>0.0</td>\n",
       "    </tr>\n",
       "    <tr>\n",
       "      <th>2024-11-13 00:00:00-05:00</th>\n",
       "      <td>335.850006</td>\n",
       "      <td>344.600006</td>\n",
       "      <td>322.500000</td>\n",
       "      <td>330.239990</td>\n",
       "      <td>125066000.0</td>\n",
       "      <td>0.0</td>\n",
       "      <td>0.0</td>\n",
       "    </tr>\n",
       "  </tbody>\n",
       "</table>\n",
       "</div>"
      ],
      "text/plain": [
       "                                 Open        High         Low       Close  \\\n",
       "Date                                                                        \n",
       "2024-10-31 00:00:00-04:00  257.989990  259.750000  249.250000  249.850006   \n",
       "2024-11-01 00:00:00-04:00  252.039993  254.000000  246.630005  248.979996   \n",
       "2024-11-04 00:00:00-05:00  244.559998  248.899994  238.880005  242.839996   \n",
       "2024-11-05 00:00:00-05:00  247.339996  255.279999  246.210007  251.440002   \n",
       "2024-11-06 00:00:00-05:00  284.670013  289.589996  275.619995  288.529999   \n",
       "2024-11-07 00:00:00-05:00  288.890015  299.750000  285.519989  296.910004   \n",
       "2024-11-08 00:00:00-05:00  299.140015  328.709991  297.660004  321.220001   \n",
       "2024-11-11 00:00:00-05:00  346.299988  358.640015  336.000000  350.000000   \n",
       "2024-11-12 00:00:00-05:00  342.739990  345.839996  323.309998  328.489990   \n",
       "2024-11-13 00:00:00-05:00  335.850006  344.600006  322.500000  330.239990   \n",
       "\n",
       "                                Volume  Dividends  Stock Splits  \n",
       "Date                                                             \n",
       "2024-10-31 00:00:00-04:00   66575300.0        0.0           0.0  \n",
       "2024-11-01 00:00:00-04:00   57544800.0        0.0           0.0  \n",
       "2024-11-04 00:00:00-05:00   68802400.0        0.0           0.0  \n",
       "2024-11-05 00:00:00-05:00   69282500.0        0.0           0.0  \n",
       "2024-11-06 00:00:00-05:00  165228700.0        0.0           0.0  \n",
       "2024-11-07 00:00:00-05:00  117309200.0        0.0           0.0  \n",
       "2024-11-08 00:00:00-05:00  204782800.0        0.0           0.0  \n",
       "2024-11-11 00:00:00-05:00  210521600.0        0.0           0.0  \n",
       "2024-11-12 00:00:00-05:00  155726000.0        0.0           0.0  \n",
       "2024-11-13 00:00:00-05:00  125066000.0        0.0           0.0  "
      ]
     },
     "execution_count": 273,
     "metadata": {},
     "output_type": "execute_result"
    }
   ],
   "source": [
    "stk_hist.tail(10)"
   ]
  },
  {
   "cell_type": "code",
   "execution_count": 274,
   "metadata": {},
   "outputs": [
    {
     "data": {
      "text/plain": [
       "47"
      ]
     },
     "execution_count": 274,
     "metadata": {},
     "output_type": "execute_result"
    }
   ],
   "source": [
    "stk_hist.duplicated().sum()"
   ]
  },
  {
   "cell_type": "code",
   "execution_count": 275,
   "metadata": {},
   "outputs": [
    {
     "data": {
      "text/plain": [
       "Open            0\n",
       "High            0\n",
       "Low             0\n",
       "Close           0\n",
       "Volume          0\n",
       "Dividends       0\n",
       "Stock Splits    0\n",
       "dtype: int64"
      ]
     },
     "execution_count": 275,
     "metadata": {},
     "output_type": "execute_result"
    }
   ],
   "source": [
    "stk_hist.isnull().sum()"
   ]
  },
  {
   "cell_type": "code",
   "execution_count": 276,
   "metadata": {},
   "outputs": [
    {
     "data": {
      "text/plain": [
       "<Axes: xlabel='Date'>"
      ]
     },
     "execution_count": 276,
     "metadata": {},
     "output_type": "execute_result"
    },
    {
     "data": {
      "image/png": "[encoded data removed]",
      "text/plain": [
       "<Figure size 640x480 with 1 Axes>"
      ]
     },
     "metadata": {},
     "output_type": "display_data"
    }
   ],
   "source": [
    "stk_hist['Close'].plot()"
   ]
  },
  {
   "cell_type": "code",
   "execution_count": 277,
   "metadata": {},
   "outputs": [],
   "source": [
    "# Create a 5-day moving average\n",
    "stk_hist['Monthly_value'] = (stk_hist['Close'].rolling(window=30).mean() - stk_hist['Close'].shift(1).rolling(window=30).mean())\n",
    "\n",
    "# Create percentage change features\n",
    "stk_hist['Pct_Change_close'] = stk_hist['Close'].pct_change()\n",
    "\n",
    "stk_hist['Pct_Change_vol'] = stk_hist['Volume'].pct_change()\n",
    "\n",
    "# lagged Close variable\n",
    "stk_hist['Close_Lag1'] = stk_hist['Close'] -  stk_hist['Close'].shift(1)\n",
    "#stk_hist['Close_Lag5'] = stk_hist['Close'] -  stk_hist['Close'].shift(5)\n"
   ]
  },
  {
   "cell_type": "code",
   "execution_count": 278,
   "metadata": {},
   "outputs": [],
   "source": [
    "stk_hist = stk_hist.iloc[stk_hist.index.year > 2019  ]"
   ]
  },
  {
   "cell_type": "code",
   "execution_count": 279,
   "metadata": {},
   "outputs": [
    {
     "data": {
      "text/html": [
       "<div>\n",
       "<style scoped>\n",
       "    .dataframe tbody tr th:only-of-type {\n",
       "        vertical-align: middle;\n",
       "    }\n",
       "\n",
       "    .dataframe tbody tr th {\n",
       "        vertical-align: top;\n",
       "    }\n",
       "\n",
       "    .dataframe thead th {\n",
       "        text-align: right;\n",
       "    }\n",
       "</style>\n",
       "<table border=\"1\" class=\"dataframe\">\n",
       "  <thead>\n",
       "    <tr style=\"text-align: right;\">\n",
       "      <th></th>\n",
       "      <th>Open</th>\n",
       "      <th>High</th>\n",
       "      <th>Low</th>\n",
       "      <th>Close</th>\n",
       "      <th>Volume</th>\n",
       "      <th>Dividends</th>\n",
       "      <th>Stock Splits</th>\n",
       "      <th>Monthly_value</th>\n",
       "      <th>Pct_Change_close</th>\n",
       "      <th>Pct_Change_vol</th>\n",
       "      <th>Close_Lag1</th>\n",
       "    </tr>\n",
       "    <tr>\n",
       "      <th>Date</th>\n",
       "      <th></th>\n",
       "      <th></th>\n",
       "      <th></th>\n",
       "      <th></th>\n",
       "      <th></th>\n",
       "      <th></th>\n",
       "      <th></th>\n",
       "      <th></th>\n",
       "      <th></th>\n",
       "      <th></th>\n",
       "      <th></th>\n",
       "    </tr>\n",
       "  </thead>\n",
       "  <tbody>\n",
       "    <tr>\n",
       "      <th>2020-01-01 00:00:00-05:00</th>\n",
       "      <td>28.299999</td>\n",
       "      <td>28.713333</td>\n",
       "      <td>28.114000</td>\n",
       "      <td>28.684000</td>\n",
       "      <td>142981500.0</td>\n",
       "      <td>0.0</td>\n",
       "      <td>0.0</td>\n",
       "      <td>0.173422</td>\n",
       "      <td>0.028518</td>\n",
       "      <td>-0.073267</td>\n",
       "      <td>0.795334</td>\n",
       "    </tr>\n",
       "    <tr>\n",
       "      <th>2020-01-02 00:00:00-05:00</th>\n",
       "      <td>28.299999</td>\n",
       "      <td>28.713333</td>\n",
       "      <td>28.114000</td>\n",
       "      <td>28.684000</td>\n",
       "      <td>142981500.0</td>\n",
       "      <td>0.0</td>\n",
       "      <td>0.0</td>\n",
       "      <td>0.167622</td>\n",
       "      <td>0.000000</td>\n",
       "      <td>0.000000</td>\n",
       "      <td>0.000000</td>\n",
       "    </tr>\n",
       "    <tr>\n",
       "      <th>2020-01-03 00:00:00-05:00</th>\n",
       "      <td>29.366667</td>\n",
       "      <td>30.266666</td>\n",
       "      <td>29.128000</td>\n",
       "      <td>29.534000</td>\n",
       "      <td>266677500.0</td>\n",
       "      <td>0.0</td>\n",
       "      <td>0.0</td>\n",
       "      <td>0.244378</td>\n",
       "      <td>0.029633</td>\n",
       "      <td>0.865119</td>\n",
       "      <td>0.850000</td>\n",
       "    </tr>\n",
       "    <tr>\n",
       "      <th>2020-01-06 00:00:00-05:00</th>\n",
       "      <td>29.364668</td>\n",
       "      <td>30.104000</td>\n",
       "      <td>29.333332</td>\n",
       "      <td>30.102667</td>\n",
       "      <td>151995000.0</td>\n",
       "      <td>0.0</td>\n",
       "      <td>0.0</td>\n",
       "      <td>0.256000</td>\n",
       "      <td>0.019255</td>\n",
       "      <td>-0.430042</td>\n",
       "      <td>0.568666</td>\n",
       "    </tr>\n",
       "    <tr>\n",
       "      <th>2020-01-07 00:00:00-05:00</th>\n",
       "      <td>30.760000</td>\n",
       "      <td>31.441999</td>\n",
       "      <td>30.224001</td>\n",
       "      <td>31.270666</td>\n",
       "      <td>268231500.0</td>\n",
       "      <td>0.0</td>\n",
       "      <td>0.0</td>\n",
       "      <td>0.311422</td>\n",
       "      <td>0.038801</td>\n",
       "      <td>0.764739</td>\n",
       "      <td>1.167999</td>\n",
       "    </tr>\n",
       "  </tbody>\n",
       "</table>\n",
       "</div>"
      ],
      "text/plain": [
       "                                Open       High        Low      Close  \\\n",
       "Date                                                                    \n",
       "2020-01-01 00:00:00-05:00  28.299999  28.713333  28.114000  28.684000   \n",
       "2020-01-02 00:00:00-05:00  28.299999  28.713333  28.114000  28.684000   \n",
       "2020-01-03 00:00:00-05:00  29.366667  30.266666  29.128000  29.534000   \n",
       "2020-01-06 00:00:00-05:00  29.364668  30.104000  29.333332  30.102667   \n",
       "2020-01-07 00:00:00-05:00  30.760000  31.441999  30.224001  31.270666   \n",
       "\n",
       "                                Volume  Dividends  Stock Splits  \\\n",
       "Date                                                              \n",
       "2020-01-01 00:00:00-05:00  142981500.0        0.0           0.0   \n",
       "2020-01-02 00:00:00-05:00  142981500.0        0.0           0.0   \n",
       "2020-01-03 00:00:00-05:00  266677500.0        0.0           0.0   \n",
       "2020-01-06 00:00:00-05:00  151995000.0        0.0           0.0   \n",
       "2020-01-07 00:00:00-05:00  268231500.0        0.0           0.0   \n",
       "\n",
       "                           Monthly_value  Pct_Change_close  Pct_Change_vol  \\\n",
       "Date                                                                         \n",
       "2020-01-01 00:00:00-05:00       0.173422          0.028518       -0.073267   \n",
       "2020-01-02 00:00:00-05:00       0.167622          0.000000        0.000000   \n",
       "2020-01-03 00:00:00-05:00       0.244378          0.029633        0.865119   \n",
       "2020-01-06 00:00:00-05:00       0.256000          0.019255       -0.430042   \n",
       "2020-01-07 00:00:00-05:00       0.311422          0.038801        0.764739   \n",
       "\n",
       "                           Close_Lag1  \n",
       "Date                                   \n",
       "2020-01-01 00:00:00-05:00    0.795334  \n",
       "2020-01-02 00:00:00-05:00    0.000000  \n",
       "2020-01-03 00:00:00-05:00    0.850000  \n",
       "2020-01-06 00:00:00-05:00    0.568666  \n",
       "2020-01-07 00:00:00-05:00    1.167999  "
      ]
     },
     "execution_count": 279,
     "metadata": {},
     "output_type": "execute_result"
    }
   ],
   "source": [
    "stk_hist.head()"
   ]
  },
  {
   "cell_type": "code",
   "execution_count": 280,
   "metadata": {},
   "outputs": [
    {
     "data": {
      "text/html": [
       "<div>\n",
       "<style scoped>\n",
       "    .dataframe tbody tr th:only-of-type {\n",
       "        vertical-align: middle;\n",
       "    }\n",
       "\n",
       "    .dataframe tbody tr th {\n",
       "        vertical-align: top;\n",
       "    }\n",
       "\n",
       "    .dataframe thead th {\n",
       "        text-align: right;\n",
       "    }\n",
       "</style>\n",
       "<table border=\"1\" class=\"dataframe\">\n",
       "  <thead>\n",
       "    <tr style=\"text-align: right;\">\n",
       "      <th></th>\n",
       "      <th>Open</th>\n",
       "      <th>High</th>\n",
       "      <th>Low</th>\n",
       "      <th>Close</th>\n",
       "      <th>Volume</th>\n",
       "      <th>Dividends</th>\n",
       "      <th>Stock Splits</th>\n",
       "      <th>Monthly_value</th>\n",
       "      <th>Pct_Change_close</th>\n",
       "      <th>Pct_Change_vol</th>\n",
       "      <th>Close_Lag1</th>\n",
       "    </tr>\n",
       "  </thead>\n",
       "  <tbody>\n",
       "    <tr>\n",
       "      <th>count</th>\n",
       "      <td>1271.000000</td>\n",
       "      <td>1271.000000</td>\n",
       "      <td>1271.000000</td>\n",
       "      <td>1271.000000</td>\n",
       "      <td>1.271000e+03</td>\n",
       "      <td>1271.0</td>\n",
       "      <td>1271.000000</td>\n",
       "      <td>1271.000000</td>\n",
       "      <td>1271.000000</td>\n",
       "      <td>1271.000000</td>\n",
       "      <td>1271.000000</td>\n",
       "    </tr>\n",
       "    <tr>\n",
       "      <th>mean</th>\n",
       "      <td>208.797625</td>\n",
       "      <td>213.480006</td>\n",
       "      <td>203.841920</td>\n",
       "      <td>208.768972</td>\n",
       "      <td>1.265132e+08</td>\n",
       "      <td>0.0</td>\n",
       "      <td>0.006294</td>\n",
       "      <td>0.181125</td>\n",
       "      <td>0.002809</td>\n",
       "      <td>0.039548</td>\n",
       "      <td>0.237885</td>\n",
       "    </tr>\n",
       "    <tr>\n",
       "      <th>std</th>\n",
       "      <td>79.433819</td>\n",
       "      <td>81.050858</td>\n",
       "      <td>77.601183</td>\n",
       "      <td>79.306327</td>\n",
       "      <td>8.260308e+07</td>\n",
       "      <td>0.0</td>\n",
       "      <td>0.163499</td>\n",
       "      <td>1.537708</td>\n",
       "      <td>0.041646</td>\n",
       "      <td>0.314368</td>\n",
       "      <td>8.426704</td>\n",
       "    </tr>\n",
       "    <tr>\n",
       "      <th>min</th>\n",
       "      <td>24.980000</td>\n",
       "      <td>26.990667</td>\n",
       "      <td>23.367332</td>\n",
       "      <td>24.081333</td>\n",
       "      <td>2.940180e+07</td>\n",
       "      <td>0.0</td>\n",
       "      <td>0.000000</td>\n",
       "      <td>-4.678667</td>\n",
       "      <td>-0.210628</td>\n",
       "      <td>-0.738683</td>\n",
       "      <td>-46.480011</td>\n",
       "    </tr>\n",
       "    <tr>\n",
       "      <th>25%</th>\n",
       "      <td>173.044998</td>\n",
       "      <td>176.055000</td>\n",
       "      <td>168.864998</td>\n",
       "      <td>173.099998</td>\n",
       "      <td>7.602935e+07</td>\n",
       "      <td>0.0</td>\n",
       "      <td>0.000000</td>\n",
       "      <td>-0.813167</td>\n",
       "      <td>-0.018671</td>\n",
       "      <td>-0.152520</td>\n",
       "      <td>-3.368332</td>\n",
       "    </tr>\n",
       "    <tr>\n",
       "      <th>50%</th>\n",
       "      <td>219.463333</td>\n",
       "      <td>223.106674</td>\n",
       "      <td>214.066666</td>\n",
       "      <td>219.160004</td>\n",
       "      <td>1.029801e+08</td>\n",
       "      <td>0.0</td>\n",
       "      <td>0.000000</td>\n",
       "      <td>0.264889</td>\n",
       "      <td>0.001259</td>\n",
       "      <td>-0.011707</td>\n",
       "      <td>0.175999</td>\n",
       "    </tr>\n",
       "    <tr>\n",
       "      <th>75%</th>\n",
       "      <td>255.910004</td>\n",
       "      <td>260.605011</td>\n",
       "      <td>250.533333</td>\n",
       "      <td>256.544998</td>\n",
       "      <td>1.468511e+08</td>\n",
       "      <td>0.0</td>\n",
       "      <td>0.000000</td>\n",
       "      <td>1.089756</td>\n",
       "      <td>0.022006</td>\n",
       "      <td>0.160690</td>\n",
       "      <td>4.055000</td>\n",
       "    </tr>\n",
       "    <tr>\n",
       "      <th>max</th>\n",
       "      <td>411.470001</td>\n",
       "      <td>414.496674</td>\n",
       "      <td>405.666656</td>\n",
       "      <td>409.970001</td>\n",
       "      <td>9.140820e+08</td>\n",
       "      <td>0.0</td>\n",
       "      <td>5.000000</td>\n",
       "      <td>5.315778</td>\n",
       "      <td>0.219190</td>\n",
       "      <td>2.947500</td>\n",
       "      <td>47.666656</td>\n",
       "    </tr>\n",
       "  </tbody>\n",
       "</table>\n",
       "</div>"
      ],
      "text/plain": [
       "              Open         High          Low        Close        Volume  \\\n",
       "count  1271.000000  1271.000000  1271.000000  1271.000000  1.271000e+03   \n",
       "mean    208.797625   213.480006   203.841920   208.768972  1.265132e+08   \n",
       "std      79.433819    81.050858    77.601183    79.306327  8.260308e+07   \n",
       "min      24.980000    26.990667    23.367332    24.081333  2.940180e+07   \n",
       "25%     173.044998   176.055000   168.864998   173.099998  7.602935e+07   \n",
       "50%     219.463333   223.106674   214.066666   219.160004  1.029801e+08   \n",
       "75%     255.910004   260.605011   250.533333   256.544998  1.468511e+08   \n",
       "max     411.470001   414.496674   405.666656   409.970001  9.140820e+08   \n",
       "\n",
       "       Dividends  Stock Splits  Monthly_value  Pct_Change_close  \\\n",
       "count     1271.0   1271.000000    1271.000000       1271.000000   \n",
       "mean         0.0      0.006294       0.181125          0.002809   \n",
       "std          0.0      0.163499       1.537708          0.041646   \n",
       "min          0.0      0.000000      -4.678667         -0.210628   \n",
       "25%          0.0      0.000000      -0.813167         -0.018671   \n",
       "50%          0.0      0.000000       0.264889          0.001259   \n",
       "75%          0.0      0.000000       1.089756          0.022006   \n",
       "max          0.0      5.000000       5.315778          0.219190   \n",
       "\n",
       "       Pct_Change_vol   Close_Lag1  \n",
       "count     1271.000000  1271.000000  \n",
       "mean         0.039548     0.237885  \n",
       "std          0.314368     8.426704  \n",
       "min         -0.738683   -46.480011  \n",
       "25%         -0.152520    -3.368332  \n",
       "50%         -0.011707     0.175999  \n",
       "75%          0.160690     4.055000  \n",
       "max          2.947500    47.666656  "
      ]
     },
     "execution_count": 280,
     "metadata": {},
     "output_type": "execute_result"
    }
   ],
   "source": [
    "stk_hist.describe()"
   ]
  },
  {
   "cell_type": "code",
   "execution_count": 281,
   "metadata": {},
   "outputs": [],
   "source": [
    "stk_hist.drop('Dividends',axis=1,inplace=True)"
   ]
  },
  {
   "cell_type": "code",
   "execution_count": 282,
   "metadata": {},
   "outputs": [],
   "source": [
    "# To check Time Series is Stationary or not - this is mandatory steps\n",
    "# please ensure your data should be stationary\n",
    "# How will check it - Augmented dickey fuller test \n",
    "\n",
    "import pandas as pd\n",
    "import numpy as np\n",
    "from statsmodels.tsa.stattools import adfuller\n",
    "\n",
    "# Load your time series data\n",
    "# Replace `your_time_series` with your actual data series (e.g., data['column_name'])\n",
    "\n",
    "\n",
    "# Function to apply differencing and check stationarity with ADF test\n",
    "def check_stationarity(series, max_d=2):\n",
    "    results = {}\n",
    "    for d in range(max_d + 1):\n",
    "        # Apply differencing\n",
    "        differenced_series = series if d == 0 else np.diff(series, n=d)\n",
    "        \n",
    "        # Perform ADF test\n",
    "        adf_test = adfuller(differenced_series)\n",
    "        \n",
    "        # Collect results\n",
    "        results[f'Differencing Order {d}'] = {\n",
    "            'ADF Statistic': adf_test[0],\n",
    "            'p-value': adf_test[1],\n",
    "            'Critical Values': adf_test[4],\n",
    "            'Stationary': adf_test[1] < 0.05\n",
    "        }\n",
    "        \n",
    "        # Print or store results for analysis\n",
    "        print(f\"    Differencing Order {d}:\")\n",
    "        print(f\"    ADF Statistic: {adf_test[0]}\")\n",
    "        print(f\"    p-value: {adf_test[1]}\")\n",
    "        print(f\"    Critical Values: {adf_test[4]}\")\n",
    "        print(f\"    Is Stationary? {'Yes' if adf_test[1] < 0.05 else 'No'}\")\n",
    "        print(\"=\" * 40)\n",
    "    \n",
    "    return results\n",
    "\n",
    "# Run stationarity check with differencing orders 0 to 2"
   ]
  },
  {
   "cell_type": "code",
   "execution_count": 283,
   "metadata": {},
   "outputs": [
    {
     "name": "stdout",
     "output_type": "stream",
     "text": [
      "========== For Open ====================================\n",
      "    Differencing Order 0:\n",
      "    ADF Statistic: -2.2300010578488396\n",
      "    p-value: 0.19553751136138614\n",
      "    Critical Values: {'1%': -3.4355135753070005, '5%': -2.8638202689908683, '10%': -2.567984037473585}\n",
      "    Is Stationary? No\n",
      "========================================\n",
      "========== For High ====================================\n",
      "    Differencing Order 0:\n",
      "    ADF Statistic: -2.1985561811672705\n",
      "    p-value: 0.20676989709363136\n",
      "    Critical Values: {'1%': -3.4355176558157616, '5%': -2.8638220694163588, '10%': -2.5679849962931267}\n",
      "    Is Stationary? No\n",
      "========================================\n",
      "========== For Low ====================================\n",
      "    Differencing Order 0:\n",
      "    ADF Statistic: -2.3713266928981813\n",
      "    p-value: 0.14999329181535848\n",
      "    Critical Values: {'1%': -3.4355135753070005, '5%': -2.8638202689908683, '10%': -2.567984037473585}\n",
      "    Is Stationary? No\n",
      "========================================\n",
      "========== For Close ====================================\n",
      "    Differencing Order 0:\n",
      "    ADF Statistic: -2.404458971317447\n",
      "    p-value: 0.1404818500766452\n",
      "    Critical Values: {'1%': -3.435550533536195, '5%': -2.863836575823745, '10%': -2.567992721718317}\n",
      "    Is Stationary? No\n",
      "========================================\n",
      "========== For Volume ====================================\n",
      "    Differencing Order 0:\n",
      "    ADF Statistic: -3.301299044091636\n",
      "    p-value: 0.014820506949607376\n",
      "    Critical Values: {'1%': -3.435592223709696, '5%': -2.8638549702604803, '10%': -2.56800251776}\n",
      "    Is Stationary? Yes\n",
      "========================================\n",
      "========== For Stock Splits ====================================\n",
      "    Differencing Order 0:\n",
      "    ADF Statistic: -35.661883750237294\n",
      "    p-value: 0.0\n",
      "    Critical Values: {'1%': -3.435509501237317, '5%': -2.86381847140403, '10%': -2.5679830801661603}\n",
      "    Is Stationary? Yes\n",
      "========================================\n",
      "========== For Monthly_value ====================================\n",
      "    Differencing Order 0:\n",
      "    ADF Statistic: -6.261629205303304\n",
      "    p-value: 4.2095300622393044e-08\n",
      "    Critical Values: {'1%': -3.4355964295197743, '5%': -2.863856825923603, '10%': -2.5680035060041626}\n",
      "    Is Stationary? Yes\n",
      "========================================\n",
      "========== For Pct_Change_close ====================================\n",
      "    Differencing Order 0:\n",
      "    ADF Statistic: -35.54706412683961\n",
      "    p-value: 0.0\n",
      "    Critical Values: {'1%': -3.435509501237317, '5%': -2.86381847140403, '10%': -2.5679830801661603}\n",
      "    Is Stationary? Yes\n",
      "========================================\n",
      "========== For Pct_Change_vol ====================================\n",
      "    Differencing Order 0:\n",
      "    ADF Statistic: -6.697037140610986\n",
      "    p-value: 3.975506086620555e-09\n",
      "    Critical Values: {'1%': -3.4355880246374304, '5%': -2.8638531175675896, '10%': -2.568001531098063}\n",
      "    Is Stationary? Yes\n",
      "========================================\n",
      "========== For Close_Lag1 ====================================\n",
      "    Differencing Order 0:\n",
      "    ADF Statistic: -10.324022693713951\n",
      "    p-value: 2.9579263855622708e-18\n",
      "    Critical Values: {'1%': -3.4355464009607255, '5%': -2.8638347524449888, '10%': -2.5679917506718044}\n",
      "    Is Stationary? Yes\n",
      "========================================\n"
     ]
    }
   ],
   "source": [
    "for i in stk_hist.columns :\n",
    "    print(f'========== For {i} ====================================')\n",
    "    check_stationarity(stk_hist[i], max_d=0)"
   ]
  },
  {
   "cell_type": "code",
   "execution_count": 285,
   "metadata": {},
   "outputs": [],
   "source": [
    "df = stk_hist[['Close','Volume', 'Monthly_value','Pct_Change_vol',\n",
    "       'Pct_Change_close', 'Close_Lag1']]"
   ]
  },
  {
   "cell_type": "code",
   "execution_count": 286,
   "metadata": {},
   "outputs": [
    {
     "data": {
      "text/html": [
       "<div>\n",
       "<style scoped>\n",
       "    .dataframe tbody tr th:only-of-type {\n",
       "        vertical-align: middle;\n",
       "    }\n",
       "\n",
       "    .dataframe tbody tr th {\n",
       "        vertical-align: top;\n",
       "    }\n",
       "\n",
       "    .dataframe thead th {\n",
       "        text-align: right;\n",
       "    }\n",
       "</style>\n",
       "<table border=\"1\" class=\"dataframe\">\n",
       "  <thead>\n",
       "    <tr style=\"text-align: right;\">\n",
       "      <th></th>\n",
       "      <th>Close</th>\n",
       "      <th>Volume</th>\n",
       "      <th>Monthly_value</th>\n",
       "      <th>Pct_Change_vol</th>\n",
       "      <th>Pct_Change_close</th>\n",
       "      <th>Close_Lag1</th>\n",
       "    </tr>\n",
       "    <tr>\n",
       "      <th>Date</th>\n",
       "      <th></th>\n",
       "      <th></th>\n",
       "      <th></th>\n",
       "      <th></th>\n",
       "      <th></th>\n",
       "      <th></th>\n",
       "    </tr>\n",
       "  </thead>\n",
       "  <tbody>\n",
       "    <tr>\n",
       "      <th>2020-01-01 00:00:00-05:00</th>\n",
       "      <td>28.684000</td>\n",
       "      <td>142981500.0</td>\n",
       "      <td>0.173422</td>\n",
       "      <td>-0.073267</td>\n",
       "      <td>0.028518</td>\n",
       "      <td>0.795334</td>\n",
       "    </tr>\n",
       "    <tr>\n",
       "      <th>2020-01-02 00:00:00-05:00</th>\n",
       "      <td>28.684000</td>\n",
       "      <td>142981500.0</td>\n",
       "      <td>0.167622</td>\n",
       "      <td>0.000000</td>\n",
       "      <td>0.000000</td>\n",
       "      <td>0.000000</td>\n",
       "    </tr>\n",
       "    <tr>\n",
       "      <th>2020-01-03 00:00:00-05:00</th>\n",
       "      <td>29.534000</td>\n",
       "      <td>266677500.0</td>\n",
       "      <td>0.244378</td>\n",
       "      <td>0.865119</td>\n",
       "      <td>0.029633</td>\n",
       "      <td>0.850000</td>\n",
       "    </tr>\n",
       "    <tr>\n",
       "      <th>2020-01-06 00:00:00-05:00</th>\n",
       "      <td>30.102667</td>\n",
       "      <td>151995000.0</td>\n",
       "      <td>0.256000</td>\n",
       "      <td>-0.430042</td>\n",
       "      <td>0.019255</td>\n",
       "      <td>0.568666</td>\n",
       "    </tr>\n",
       "    <tr>\n",
       "      <th>2020-01-07 00:00:00-05:00</th>\n",
       "      <td>31.270666</td>\n",
       "      <td>268231500.0</td>\n",
       "      <td>0.311422</td>\n",
       "      <td>0.764739</td>\n",
       "      <td>0.038801</td>\n",
       "      <td>1.167999</td>\n",
       "    </tr>\n",
       "  </tbody>\n",
       "</table>\n",
       "</div>"
      ],
      "text/plain": [
       "                               Close       Volume  Monthly_value  \\\n",
       "Date                                                               \n",
       "2020-01-01 00:00:00-05:00  28.684000  142981500.0       0.173422   \n",
       "2020-01-02 00:00:00-05:00  28.684000  142981500.0       0.167622   \n",
       "2020-01-03 00:00:00-05:00  29.534000  266677500.0       0.244378   \n",
       "2020-01-06 00:00:00-05:00  30.102667  151995000.0       0.256000   \n",
       "2020-01-07 00:00:00-05:00  31.270666  268231500.0       0.311422   \n",
       "\n",
       "                           Pct_Change_vol  Pct_Change_close  Close_Lag1  \n",
       "Date                                                                     \n",
       "2020-01-01 00:00:00-05:00       -0.073267          0.028518    0.795334  \n",
       "2020-01-02 00:00:00-05:00        0.000000          0.000000    0.000000  \n",
       "2020-01-03 00:00:00-05:00        0.865119          0.029633    0.850000  \n",
       "2020-01-06 00:00:00-05:00       -0.430042          0.019255    0.568666  \n",
       "2020-01-07 00:00:00-05:00        0.764739          0.038801    1.167999  "
      ]
     },
     "execution_count": 286,
     "metadata": {},
     "output_type": "execute_result"
    }
   ],
   "source": [
    "df.head()"
   ]
  },
  {
   "cell_type": "code",
   "execution_count": 287,
   "metadata": {},
   "outputs": [
    {
     "name": "stdout",
     "output_type": "stream",
     "text": [
      "<class 'pandas.core.frame.DataFrame'>\n",
      "DatetimeIndex: 1271 entries, 2020-01-01 00:00:00-05:00 to 2024-11-13 00:00:00-05:00\n",
      "Freq: B\n",
      "Data columns (total 6 columns):\n",
      " #   Column            Non-Null Count  Dtype  \n",
      "---  ------            --------------  -----  \n",
      " 0   Close             1271 non-null   float64\n",
      " 1   Volume            1271 non-null   float64\n",
      " 2   Monthly_value     1271 non-null   float64\n",
      " 3   Pct_Change_vol    1271 non-null   float64\n",
      " 4   Pct_Change_close  1271 non-null   float64\n",
      " 5   Close_Lag1        1271 non-null   float64\n",
      "dtypes: float64(6)\n",
      "memory usage: 69.5 KB\n"
     ]
    }
   ],
   "source": [
    "df.info()"
   ]
  },
  {
   "cell_type": "code",
   "execution_count": 288,
   "metadata": {},
   "outputs": [
    {
     "data": {
      "text/plain": [
       "<Axes: xlabel='Date'>"
      ]
     },
     "execution_count": 288,
     "metadata": {},
     "output_type": "execute_result"
    },
    {
     "data": {
      "image/png": "[encoded data removed]",
      "text/plain": [
       "<Figure size 640x480 with 1 Axes>"
      ]
     },
     "metadata": {},
     "output_type": "display_data"
    }
   ],
   "source": [
    "df['Close'].plot()"
   ]
  },
  {
   "cell_type": "code",
   "execution_count": 289,
   "metadata": {},
   "outputs": [
    {
     "data": {
      "text/html": [
       "<div>\n",
       "<style scoped>\n",
       "    .dataframe tbody tr th:only-of-type {\n",
       "        vertical-align: middle;\n",
       "    }\n",
       "\n",
       "    .dataframe tbody tr th {\n",
       "        vertical-align: top;\n",
       "    }\n",
       "\n",
       "    .dataframe thead th {\n",
       "        text-align: right;\n",
       "    }\n",
       "</style>\n",
       "<table border=\"1\" class=\"dataframe\">\n",
       "  <thead>\n",
       "    <tr style=\"text-align: right;\">\n",
       "      <th></th>\n",
       "      <th>Close</th>\n",
       "      <th>Volume</th>\n",
       "      <th>Monthly_value</th>\n",
       "      <th>Pct_Change_vol</th>\n",
       "      <th>Pct_Change_close</th>\n",
       "      <th>Close_Lag1</th>\n",
       "    </tr>\n",
       "  </thead>\n",
       "  <tbody>\n",
       "    <tr>\n",
       "      <th>Close</th>\n",
       "      <td>1.000000</td>\n",
       "      <td>-0.602703</td>\n",
       "      <td>0.196544</td>\n",
       "      <td>-0.018235</td>\n",
       "      <td>-0.011671</td>\n",
       "      <td>0.042588</td>\n",
       "    </tr>\n",
       "    <tr>\n",
       "      <th>Volume</th>\n",
       "      <td>-0.602703</td>\n",
       "      <td>1.000000</td>\n",
       "      <td>0.120816</td>\n",
       "      <td>0.306462</td>\n",
       "      <td>0.144150</td>\n",
       "      <td>0.064807</td>\n",
       "    </tr>\n",
       "    <tr>\n",
       "      <th>Monthly_value</th>\n",
       "      <td>0.196544</td>\n",
       "      <td>0.120816</td>\n",
       "      <td>1.000000</td>\n",
       "      <td>0.014170</td>\n",
       "      <td>0.151717</td>\n",
       "      <td>0.171200</td>\n",
       "    </tr>\n",
       "    <tr>\n",
       "      <th>Pct_Change_vol</th>\n",
       "      <td>-0.018235</td>\n",
       "      <td>0.306462</td>\n",
       "      <td>0.014170</td>\n",
       "      <td>1.000000</td>\n",
       "      <td>0.165496</td>\n",
       "      <td>0.109491</td>\n",
       "    </tr>\n",
       "    <tr>\n",
       "      <th>Pct_Change_close</th>\n",
       "      <td>-0.011671</td>\n",
       "      <td>0.144150</td>\n",
       "      <td>0.151717</td>\n",
       "      <td>0.165496</td>\n",
       "      <td>1.000000</td>\n",
       "      <td>0.882452</td>\n",
       "    </tr>\n",
       "    <tr>\n",
       "      <th>Close_Lag1</th>\n",
       "      <td>0.042588</td>\n",
       "      <td>0.064807</td>\n",
       "      <td>0.171200</td>\n",
       "      <td>0.109491</td>\n",
       "      <td>0.882452</td>\n",
       "      <td>1.000000</td>\n",
       "    </tr>\n",
       "  </tbody>\n",
       "</table>\n",
       "</div>"
      ],
      "text/plain": [
       "                     Close    Volume  Monthly_value  Pct_Change_vol  \\\n",
       "Close             1.000000 -0.602703       0.196544       -0.018235   \n",
       "Volume           -0.602703  1.000000       0.120816        0.306462   \n",
       "Monthly_value     0.196544  0.120816       1.000000        0.014170   \n",
       "Pct_Change_vol   -0.018235  0.306462       0.014170        1.000000   \n",
       "Pct_Change_close -0.011671  0.144150       0.151717        0.165496   \n",
       "Close_Lag1        0.042588  0.064807       0.171200        0.109491   \n",
       "\n",
       "                  Pct_Change_close  Close_Lag1  \n",
       "Close                    -0.011671    0.042588  \n",
       "Volume                    0.144150    0.064807  \n",
       "Monthly_value             0.151717    0.171200  \n",
       "Pct_Change_vol            0.165496    0.109491  \n",
       "Pct_Change_close          1.000000    0.882452  \n",
       "Close_Lag1                0.882452    1.000000  "
      ]
     },
     "execution_count": 289,
     "metadata": {},
     "output_type": "execute_result"
    }
   ],
   "source": [
    "df.corr()"
   ]
  },
  {
   "cell_type": "code",
   "execution_count": 290,
   "metadata": {},
   "outputs": [
    {
     "data": {
      "image/png": "[encoded data removed]",
      "text/plain": [
       "<Figure size 1000x500 with 1 Axes>"
      ]
     },
     "metadata": {},
     "output_type": "display_data"
    },
    {
     "data": {
      "image/png": "[encoded data removed]",
      "text/plain": [
       "<Figure size 1000x500 with 1 Axes>"
      ]
     },
     "metadata": {},
     "output_type": "display_data"
    },
    {
     "data": {
      "image/png": "[encoded data removed]",
      "text/plain": [
       "<Figure size 1000x500 with 1 Axes>"
      ]
     },
     "metadata": {},
     "output_type": "display_data"
    },
    {
     "data": {
      "image/png": "[encoded data removed]",
      "text/plain": [
       "<Figure size 1000x500 with 1 Axes>"
      ]
     },
     "metadata": {},
     "output_type": "display_data"
    },
    {
     "data": {
      "image/png": "[encoded data removed]",
      "text/plain": [
       "<Figure size 1000x500 with 1 Axes>"
      ]
     },
     "metadata": {},
     "output_type": "display_data"
    }
   ],
   "source": [
    "for i in df.columns[1:] :\n",
    "    plt.figure(figsize=(10,5))\n",
    "    sns.boxplot(x= pd.to_datetime(df.index).year, y=df[i] )\n",
    "    plt.grid()\n",
    "    plt.show()"
   ]
  },
  {
   "cell_type": "code",
   "execution_count": 291,
   "metadata": {},
   "outputs": [
    {
     "data": {
      "text/plain": [
       "<Figure size 2000x1000 with 0 Axes>"
      ]
     },
     "metadata": {},
     "output_type": "display_data"
    },
    {
     "data": {
      "image/png": "[encoded data removed]",
      "text/plain": [
       "<Figure size 640x480 with 4 Axes>"
      ]
     },
     "metadata": {},
     "output_type": "display_data"
    }
   ],
   "source": [
    "from statsmodels.tsa.seasonal import seasonal_decompose\n",
    "\n",
    "plt.figure(figsize=(20,10))\n",
    "decompse = seasonal_decompose(df['Close'], model='additive', period=12)\n",
    "decompse.plot()\n",
    "plt.show()"
   ]
  },
  {
   "cell_type": "code",
   "execution_count": 292,
   "metadata": {},
   "outputs": [
    {
     "data": {
      "text/plain": [
       "Date\n",
       "2020-01-01 00:00:00-05:00          NaN\n",
       "2020-01-02 00:00:00-05:00          NaN\n",
       "2020-01-03 00:00:00-05:00          NaN\n",
       "2020-01-06 00:00:00-05:00          NaN\n",
       "2020-01-07 00:00:00-05:00          NaN\n",
       "2020-01-08 00:00:00-05:00          NaN\n",
       "2020-01-09 00:00:00-05:00    32.281389\n",
       "2020-01-10 00:00:00-05:00    32.829111\n",
       "2020-01-13 00:00:00-05:00    33.443361\n",
       "2020-01-14 00:00:00-05:00    34.060611\n",
       "2020-01-15 00:00:00-05:00    34.674944\n",
       "2020-01-16 00:00:00-05:00    35.163333\n",
       "Freq: B, Name: trend, dtype: float64"
      ]
     },
     "execution_count": 292,
     "metadata": {},
     "output_type": "execute_result"
    }
   ],
   "source": [
    "trend = decompse.trend\n",
    "seasonality = decompse.seasonal\n",
    "residual = decompse.resid\n",
    "\n",
    "trend.head(12)"
   ]
  },
  {
   "cell_type": "code",
   "execution_count": 293,
   "metadata": {},
   "outputs": [
    {
     "data": {
      "text/plain": [
       "Date\n",
       "2020-01-01 00:00:00-05:00    1.489598\n",
       "2020-01-02 00:00:00-05:00    1.107800\n",
       "2020-01-03 00:00:00-05:00    0.097610\n",
       "2020-01-06 00:00:00-05:00    0.481136\n",
       "2020-01-07 00:00:00-05:00   -0.532449\n",
       "2020-01-08 00:00:00-05:00   -0.651664\n",
       "2020-01-09 00:00:00-05:00   -0.179874\n",
       "2020-01-10 00:00:00-05:00    0.441696\n",
       "2020-01-13 00:00:00-05:00   -0.594027\n",
       "2020-01-14 00:00:00-05:00   -0.420449\n",
       "2020-01-15 00:00:00-05:00   -1.073513\n",
       "2020-01-16 00:00:00-05:00   -0.165864\n",
       "Freq: B, Name: seasonal, dtype: float64"
      ]
     },
     "execution_count": 293,
     "metadata": {},
     "output_type": "execute_result"
    }
   ],
   "source": [
    "seasonality.head(12)"
   ]
  },
  {
   "cell_type": "code",
   "execution_count": 294,
   "metadata": {},
   "outputs": [
    {
     "data": {
      "text/plain": [
       "Date\n",
       "2020-01-01 00:00:00-05:00         NaN\n",
       "2020-01-02 00:00:00-05:00         NaN\n",
       "2020-01-03 00:00:00-05:00         NaN\n",
       "2020-01-06 00:00:00-05:00         NaN\n",
       "2020-01-07 00:00:00-05:00         NaN\n",
       "2020-01-08 00:00:00-05:00         NaN\n",
       "2020-01-09 00:00:00-05:00   -0.012182\n",
       "2020-01-10 00:00:00-05:00   -1.394140\n",
       "2020-01-13 00:00:00-05:00    2.141332\n",
       "2020-01-14 00:00:00-05:00    2.221170\n",
       "2020-01-15 00:00:00-05:00    0.965235\n",
       "2020-01-16 00:00:00-05:00   -0.764803\n",
       "Freq: B, Name: resid, dtype: float64"
      ]
     },
     "execution_count": 294,
     "metadata": {},
     "output_type": "execute_result"
    }
   ],
   "source": [
    "residual.head(12)\n"
   ]
  },
  {
   "cell_type": "code",
   "execution_count": 295,
   "metadata": {},
   "outputs": [],
   "source": [
    "df.index = pd.to_datetime(df.index).date\n"
   ]
  },
  {
   "cell_type": "code",
   "execution_count": 296,
   "metadata": {},
   "outputs": [
    {
     "data": {
      "text/html": [
       "<div>\n",
       "<style scoped>\n",
       "    .dataframe tbody tr th:only-of-type {\n",
       "        vertical-align: middle;\n",
       "    }\n",
       "\n",
       "    .dataframe tbody tr th {\n",
       "        vertical-align: top;\n",
       "    }\n",
       "\n",
       "    .dataframe thead th {\n",
       "        text-align: right;\n",
       "    }\n",
       "</style>\n",
       "<table border=\"1\" class=\"dataframe\">\n",
       "  <thead>\n",
       "    <tr style=\"text-align: right;\">\n",
       "      <th></th>\n",
       "      <th>Close</th>\n",
       "      <th>Volume</th>\n",
       "      <th>Monthly_value</th>\n",
       "      <th>Pct_Change_vol</th>\n",
       "      <th>Pct_Change_close</th>\n",
       "      <th>Close_Lag1</th>\n",
       "    </tr>\n",
       "  </thead>\n",
       "  <tbody>\n",
       "    <tr>\n",
       "      <th>Close</th>\n",
       "      <td>1.000000</td>\n",
       "      <td>-0.602703</td>\n",
       "      <td>0.196544</td>\n",
       "      <td>-0.018235</td>\n",
       "      <td>-0.011671</td>\n",
       "      <td>0.042588</td>\n",
       "    </tr>\n",
       "    <tr>\n",
       "      <th>Volume</th>\n",
       "      <td>-0.602703</td>\n",
       "      <td>1.000000</td>\n",
       "      <td>0.120816</td>\n",
       "      <td>0.306462</td>\n",
       "      <td>0.144150</td>\n",
       "      <td>0.064807</td>\n",
       "    </tr>\n",
       "    <tr>\n",
       "      <th>Monthly_value</th>\n",
       "      <td>0.196544</td>\n",
       "      <td>0.120816</td>\n",
       "      <td>1.000000</td>\n",
       "      <td>0.014170</td>\n",
       "      <td>0.151717</td>\n",
       "      <td>0.171200</td>\n",
       "    </tr>\n",
       "    <tr>\n",
       "      <th>Pct_Change_vol</th>\n",
       "      <td>-0.018235</td>\n",
       "      <td>0.306462</td>\n",
       "      <td>0.014170</td>\n",
       "      <td>1.000000</td>\n",
       "      <td>0.165496</td>\n",
       "      <td>0.109491</td>\n",
       "    </tr>\n",
       "    <tr>\n",
       "      <th>Pct_Change_close</th>\n",
       "      <td>-0.011671</td>\n",
       "      <td>0.144150</td>\n",
       "      <td>0.151717</td>\n",
       "      <td>0.165496</td>\n",
       "      <td>1.000000</td>\n",
       "      <td>0.882452</td>\n",
       "    </tr>\n",
       "    <tr>\n",
       "      <th>Close_Lag1</th>\n",
       "      <td>0.042588</td>\n",
       "      <td>0.064807</td>\n",
       "      <td>0.171200</td>\n",
       "      <td>0.109491</td>\n",
       "      <td>0.882452</td>\n",
       "      <td>1.000000</td>\n",
       "    </tr>\n",
       "  </tbody>\n",
       "</table>\n",
       "</div>"
      ],
      "text/plain": [
       "                     Close    Volume  Monthly_value  Pct_Change_vol  \\\n",
       "Close             1.000000 -0.602703       0.196544       -0.018235   \n",
       "Volume           -0.602703  1.000000       0.120816        0.306462   \n",
       "Monthly_value     0.196544  0.120816       1.000000        0.014170   \n",
       "Pct_Change_vol   -0.018235  0.306462       0.014170        1.000000   \n",
       "Pct_Change_close -0.011671  0.144150       0.151717        0.165496   \n",
       "Close_Lag1        0.042588  0.064807       0.171200        0.109491   \n",
       "\n",
       "                  Pct_Change_close  Close_Lag1  \n",
       "Close                    -0.011671    0.042588  \n",
       "Volume                    0.144150    0.064807  \n",
       "Monthly_value             0.151717    0.171200  \n",
       "Pct_Change_vol            0.165496    0.109491  \n",
       "Pct_Change_close          1.000000    0.882452  \n",
       "Close_Lag1                0.882452    1.000000  "
      ]
     },
     "execution_count": 296,
     "metadata": {},
     "output_type": "execute_result"
    }
   ],
   "source": [
    "df.corr()"
   ]
  },
  {
   "cell_type": "code",
   "execution_count": 297,
   "metadata": {},
   "outputs": [
    {
     "name": "stdout",
     "output_type": "stream",
     "text": [
      "    Differencing Order 0:\n",
      "    ADF Statistic: -2.404458971317447\n",
      "    p-value: 0.1404818500766452\n",
      "    Critical Values: {'1%': -3.435550533536195, '5%': -2.863836575823745, '10%': -2.567992721718317}\n",
      "    Is Stationary? No\n",
      "========================================\n",
      "    Differencing Order 1:\n",
      "    ADF Statistic: -10.318826810835082\n",
      "    p-value: 3.0467635248440413e-18\n",
      "    Critical Values: {'1%': -3.435550533536195, '5%': -2.863836575823745, '10%': -2.567992721718317}\n",
      "    Is Stationary? Yes\n",
      "========================================\n",
      "    Differencing Order 2:\n",
      "    ADF Statistic: -12.300555619319184\n",
      "    p-value: 7.467150856464342e-23\n",
      "    Critical Values: {'1%': -3.4356133204636095, '5%': -2.8638642784217305, '10%': -2.5680074748794373}\n",
      "    Is Stationary? Yes\n",
      "========================================\n"
     ]
    }
   ],
   "source": [
    "_ = check_stationarity(df['Close'], max_d=2)"
   ]
  },
  {
   "cell_type": "code",
   "execution_count": 298,
   "metadata": {},
   "outputs": [],
   "source": [
    "train_df = df[:-14]\n",
    "\n",
    "# training data means : 2000-01-03 to 2015-03-22\n",
    "# test data means : 2015-03-23 to 2021-04-30\n",
    "test_df = df[-14 : ]"
   ]
  },
  {
   "cell_type": "code",
   "execution_count": 299,
   "metadata": {},
   "outputs": [
    {
     "data": {
      "text/plain": [
       "((1257, 6), (14, 6))"
      ]
     },
     "execution_count": 299,
     "metadata": {},
     "output_type": "execute_result"
    }
   ],
   "source": [
    "train_df.shape , test_df.shape"
   ]
  },
  {
   "cell_type": "markdown",
   "metadata": {},
   "source": [
    "### Estimating Trend Variables"
   ]
  },
  {
   "cell_type": "code",
   "execution_count": 300,
   "metadata": {},
   "outputs": [
    {
     "data": {
      "image/png": "[encoded data removed]",
      "text/plain": [
       "<Figure size 1200x600 with 3 Axes>"
      ]
     },
     "metadata": {},
     "output_type": "display_data"
    }
   ],
   "source": [
    "import pandas as pd\n",
    "import matplotlib.pyplot as plt\n",
    "from statsmodels.graphics.tsaplots import plot_acf, plot_pacf\n",
    "\n",
    "\n",
    "\n",
    "# Load your data\n",
    "# Example assumes data is in a CSV file with 'Date' and 'Sales' columns\n",
    "# Adjust the file path and column names as necessary\n",
    "sales_data = train_df[['Close']].diff()[1:]\n",
    "\n",
    "# Plot ACF and PACF\n",
    "plt.figure(figsize=(12, 6))\n",
    "plt.title('Graph')\n",
    "\n",
    "# ACF plot\n",
    "plt.subplot(1, 2, 1)\n",
    "plot_acf(sales_data, lags=60, ax=plt.gca(), alpha=0.05)\n",
    "plt.title('ACF Plot')\n",
    "\n",
    "# PACF plot\n",
    "plt.subplot(1, 2, 2)\n",
    "plot_pacf(sales_data, lags=60, ax=plt.gca(), method='ywm', alpha=0.05)\n",
    "plt.title('PACF Plot')\n",
    "\n",
    "plt.tight_layout()\n",
    "plt.show()"
   ]
  },
  {
   "cell_type": "markdown",
   "metadata": {},
   "source": [
    "### Estimating Seasonality Variables"
   ]
  },
  {
   "cell_type": "code",
   "execution_count": 301,
   "metadata": {},
   "outputs": [
    {
     "data": {
      "image/png": "[encoded data removed]",
      "text/plain": [
       "<Figure size 1200x600 with 3 Axes>"
      ]
     },
     "metadata": {},
     "output_type": "display_data"
    }
   ],
   "source": [
    "# Load your data\n",
    "# Example assumes data is in a CSV file with 'Date' and 'Sales' columns\n",
    "# Adjust the file path and column names as necessary\n",
    "sales_data = train_df[['Close']].diff()[1:]\n",
    "\n",
    "\n",
    "\n",
    "# Plot ACF and PACF\n",
    "plt.figure(figsize=(12, 6))\n",
    "\n",
    "plt.title('Seasonal Graph')\n",
    "\n",
    "# ACF plot\n",
    "plt.subplot(1, 2, 1)\n",
    "plot_acf(sales_data[::5], lags=60, ax=plt.gca(), alpha=0.05)\n",
    "plt.title('ACF Plot')\n",
    "\n",
    "# PACF plot\n",
    "plt.subplot(1, 2, 2)\n",
    "plot_pacf(sales_data[::5], lags=60, ax=plt.gca(), method='ywm', alpha=0.05)\n",
    "plt.title('PACF Plot')\n",
    "\n",
    "plt.tight_layout()\n",
    "plt.show()"
   ]
  },
  {
   "cell_type": "code",
   "execution_count": 302,
   "metadata": {},
   "outputs": [
    {
     "data": {
      "text/plain": [
       "[1, 2]"
      ]
     },
     "execution_count": 302,
     "metadata": {},
     "output_type": "execute_result"
    }
   ],
   "source": [
    "list(range(1,3))"
   ]
  },
  {
   "cell_type": "code",
   "execution_count": 303,
   "metadata": {},
   "outputs": [],
   "source": [
    "import itertools\n",
    "def pdq_creator():\n",
    "\n",
    "    # trend Variable\n",
    "\n",
    "    p = range(0 , 3)\n",
    "    q = range(0 ,  2)\n",
    "    d = range(1,3)\n",
    "    pdq = list(itertools.product(p, d, q)) # Trend\n",
    "\n",
    "     # seasonlaity  Variable\n",
    "\n",
    "    sp = range(0 , 3)\n",
    "    sq = range(0 , 2)\n",
    "    sd = range(1,3)\n",
    "    \n",
    "\n",
    "    seasonal_pdq = [(x[0], x[1], x[2], 5) for x in list(itertools.product(sp, sd, sq))] # Seasonality\n",
    "\n",
    "    return pdq , seasonal_pdq\n"
   ]
  },
  {
   "cell_type": "code",
   "execution_count": 304,
   "metadata": {},
   "outputs": [],
   "source": [
    "x_train = train_df.asfreq('B').drop('Close',axis=1)\n",
    "x_test = test_df.asfreq('B').drop('Close',axis=1)\n",
    "\n",
    "y_train = train_df['Close'].asfreq('B')\n",
    "y_test = test_df['Close'].asfreq('B')"
   ]
  },
  {
   "cell_type": "code",
   "execution_count": 305,
   "metadata": {},
   "outputs": [
    {
     "data": {
      "text/html": [
       "<div>\n",
       "<style scoped>\n",
       "    .dataframe tbody tr th:only-of-type {\n",
       "        vertical-align: middle;\n",
       "    }\n",
       "\n",
       "    .dataframe tbody tr th {\n",
       "        vertical-align: top;\n",
       "    }\n",
       "\n",
       "    .dataframe thead th {\n",
       "        text-align: right;\n",
       "    }\n",
       "</style>\n",
       "<table border=\"1\" class=\"dataframe\">\n",
       "  <thead>\n",
       "    <tr style=\"text-align: right;\">\n",
       "      <th></th>\n",
       "      <th>Volume</th>\n",
       "      <th>Monthly_value</th>\n",
       "      <th>Pct_Change_vol</th>\n",
       "      <th>Pct_Change_close</th>\n",
       "      <th>Close_Lag1</th>\n",
       "    </tr>\n",
       "  </thead>\n",
       "  <tbody>\n",
       "    <tr>\n",
       "      <th>2024-10-25</th>\n",
       "      <td>161611900.0</td>\n",
       "      <td>1.296667</td>\n",
       "      <td>-0.209690</td>\n",
       "      <td>0.033438</td>\n",
       "      <td>8.709991</td>\n",
       "    </tr>\n",
       "    <tr>\n",
       "      <th>2024-10-28</th>\n",
       "      <td>107653600.0</td>\n",
       "      <td>1.191000</td>\n",
       "      <td>-0.333876</td>\n",
       "      <td>-0.024815</td>\n",
       "      <td>-6.679993</td>\n",
       "    </tr>\n",
       "    <tr>\n",
       "      <th>2024-10-29</th>\n",
       "      <td>80521800.0</td>\n",
       "      <td>1.055000</td>\n",
       "      <td>-0.252029</td>\n",
       "      <td>-0.011390</td>\n",
       "      <td>-2.990021</td>\n",
       "    </tr>\n",
       "    <tr>\n",
       "      <th>2024-10-30</th>\n",
       "      <td>53993600.0</td>\n",
       "      <td>1.011666</td>\n",
       "      <td>-0.329454</td>\n",
       "      <td>-0.007591</td>\n",
       "      <td>-1.970001</td>\n",
       "    </tr>\n",
       "    <tr>\n",
       "      <th>2024-10-31</th>\n",
       "      <td>66575300.0</td>\n",
       "      <td>0.197667</td>\n",
       "      <td>0.233022</td>\n",
       "      <td>-0.029897</td>\n",
       "      <td>-7.699982</td>\n",
       "    </tr>\n",
       "  </tbody>\n",
       "</table>\n",
       "</div>"
      ],
      "text/plain": [
       "                 Volume  Monthly_value  Pct_Change_vol  Pct_Change_close  \\\n",
       "2024-10-25  161611900.0       1.296667       -0.209690          0.033438   \n",
       "2024-10-28  107653600.0       1.191000       -0.333876         -0.024815   \n",
       "2024-10-29   80521800.0       1.055000       -0.252029         -0.011390   \n",
       "2024-10-30   53993600.0       1.011666       -0.329454         -0.007591   \n",
       "2024-10-31   66575300.0       0.197667        0.233022         -0.029897   \n",
       "\n",
       "            Close_Lag1  \n",
       "2024-10-25    8.709991  \n",
       "2024-10-28   -6.679993  \n",
       "2024-10-29   -2.990021  \n",
       "2024-10-30   -1.970001  \n",
       "2024-10-31   -7.699982  "
      ]
     },
     "execution_count": 305,
     "metadata": {},
     "output_type": "execute_result"
    }
   ],
   "source": [
    "x_test.head()"
   ]
  },
  {
   "cell_type": "code",
   "execution_count": 306,
   "metadata": {},
   "outputs": [],
   "source": [
    "from sklearn.preprocessing import StandardScaler\n",
    "\n",
    "x_train = pd.DataFrame(StandardScaler().fit_transform(x_train),columns=x_train.columns,index=x_train.index)\n",
    "x_test = pd.DataFrame(StandardScaler().fit_transform(x_test),columns=x_train.columns,index=x_test.index)"
   ]
  },
  {
   "cell_type": "markdown",
   "metadata": {},
   "source": [
    "## ARIMA"
   ]
  },
  {
   "cell_type": "code",
   "execution_count": 307,
   "metadata": {},
   "outputs": [
    {
     "name": "stdout",
     "output_type": "stream",
     "text": [
      "ARIMA(0, 1, 0) - AIC: 8883.733467325526\n",
      "ARIMA(0, 1, 1) - AIC: 8884.70955619635\n",
      "ARIMA(0, 2, 0) - AIC: 9767.349882107765\n",
      "ARIMA(0, 2, 1) - AIC: 8886.8125350706\n",
      "ARIMA(1, 1, 0) - AIC: 8884.683363106782\n",
      "ARIMA(1, 1, 1) - AIC: 8883.58359172316\n",
      "ARIMA(1, 2, 0) - AIC: 9379.051794224131\n",
      "ARIMA(1, 2, 1) - AIC: 8889.55780241618\n",
      "ARIMA(2, 1, 0) - AIC: 8886.474737580313\n",
      "ARIMA(2, 1, 1) - AIC: 8888.473915430002\n",
      "ARIMA(2, 2, 0) - AIC: 9251.429946107484\n",
      "ARIMA(2, 2, 1) - AIC: 8918.430822535323\n"
     ]
    }
   ],
   "source": [
    "import statsmodels.api as sm\n",
    "from statsmodels.tsa.arima.model import ARIMA\n",
    "import pandas as pd\n",
    "\n",
    "# Assuming pdq is a list of ARIMA (p, d, q) parameters\n",
    "# Example: pdq = [(1, 1, 1), (2, 1, 2), ...]\n",
    "\n",
    "dfobject_ARIMA = pd.DataFrame(columns=['param', 'seasonal', 'AIC'])  # Initialize an empty dataframe to store results\n",
    "\n",
    "pdq , _ = pdq_creator() # no seasonality\n",
    "\n",
    "# Iterate through ARIMA parameters (p, d, q)\n",
    "for param in pdq:\n",
    "    try:\n",
    "        # Build the ARIMA model\n",
    "        model = ARIMA(y_train, order=param, freq='B')\n",
    "        result_ARIMA = model.fit(method_kwargs={'maxiter': 10})\n",
    "\n",
    "        # Print model summary (AIC)\n",
    "        print(f\"ARIMA{param} - AIC: {result_ARIMA.aic}\")\n",
    "\n",
    "        # Append results (AIC value) to dataframe\n",
    "        dfobject_ARIMA = pd.concat([dfobject_ARIMA, pd.DataFrame([{\n",
    "            \"param\": param,\n",
    "            \"AIC\": result_ARIMA.aic\n",
    "        }])], ignore_index=True)\n",
    "        \n",
    "    except Exception as e:\n",
    "        print(f\"ARIMA{param} failed: {e}\")"
   ]
  },
  {
   "cell_type": "code",
   "execution_count": 308,
   "metadata": {},
   "outputs": [
    {
     "data": {
      "text/plain": [
       "(1, 1, 1)"
      ]
     },
     "execution_count": 308,
     "metadata": {},
     "output_type": "execute_result"
    }
   ],
   "source": [
    "best_param_ARIMA = dfobject_ARIMA.sort_values(by=['AIC']).iloc[0]\n",
    "\n",
    "best_param_ARIMA['param']"
   ]
  },
  {
   "cell_type": "code",
   "execution_count": 309,
   "metadata": {},
   "outputs": [
    {
     "name": "stdout",
     "output_type": "stream",
     "text": [
      "                               SARIMAX Results                                \n",
      "==============================================================================\n",
      "Dep. Variable:                  Close   No. Observations:                 1257\n",
      "Model:                 ARIMA(1, 1, 1)   Log Likelihood               -4438.792\n",
      "Date:                Thu, 14 Nov 2024   AIC                           8883.584\n",
      "Time:                        18:48:23   BIC                           8898.991\n",
      "Sample:                    01-01-2020   HQIC                          8889.374\n",
      "                         - 10-24-2024                                         \n",
      "Covariance Type:                  opg                                         \n",
      "==============================================================================\n",
      "                 coef    std err          z      P>|z|      [0.025      0.975]\n",
      "------------------------------------------------------------------------------\n",
      "ar.L1         -0.7424      0.194     -3.821      0.000      -1.123      -0.362\n",
      "ma.L1          0.7033      0.207      3.392      0.001       0.297       1.110\n",
      "sigma2        68.7330      1.537     44.706      0.000      65.720      71.746\n",
      "===================================================================================\n",
      "Ljung-Box (L1) (Q):                   0.18   Jarque-Bera (JB):              1017.06\n",
      "Prob(Q):                              0.67   Prob(JB):                         0.00\n",
      "Heteroskedasticity (H):               1.31   Skew:                             0.00\n",
      "Prob(H) (two-sided):                  0.01   Kurtosis:                         7.41\n",
      "===================================================================================\n",
      "\n",
      "Warnings:\n",
      "[1] Covariance matrix calculated using the outer product of gradients (complex-step).\n"
     ]
    }
   ],
   "source": [
    "model = ARIMA(y_train, order= best_param_ARIMA['param'])\n",
    "result_ARIMA = model.fit()\n",
    "\n",
    "# Print model summary (AIC)\n",
    "print(result_ARIMA.summary())"
   ]
  },
  {
   "cell_type": "code",
   "execution_count": 310,
   "metadata": {},
   "outputs": [
    {
     "name": "stdout",
     "output_type": "stream",
     "text": [
      "MAPE: 9.60%\n"
     ]
    }
   ],
   "source": [
    "pred_SARIMAX_A = result_ARIMA.get_forecast(14)\n",
    "y_pred = pred_SARIMAX_A.predicted_mean\n",
    "\n",
    "# Assuming y_true contains actual values and y_pred contains predicted values\n",
    "mape = mean_absolute_percentage_error(y_test, y_pred)\n",
    "print(f\"MAPE: {mape * 100:.2f}%\")  # Multiply by 100 to express as percentage"
   ]
  },
  {
   "cell_type": "markdown",
   "metadata": {},
   "source": [
    "## SARIMA"
   ]
  },
  {
   "cell_type": "code",
   "execution_count": 314,
   "metadata": {},
   "outputs": [
    {
     "name": "stdout",
     "output_type": "stream",
     "text": [
      "SARIMA (0, 1, 0),(0, 1, 0, 5) - AIC: 9743.652593127543\n",
      "SARIMA (0, 1, 0),(0, 1, 1, 5) - AIC: 8836.274486246843\n",
      "SARIMA (0, 1, 0),(0, 2, 0, 5) - AIC: 11061.703203307201\n",
      "SARIMA (0, 1, 0),(0, 2, 1, 5) - AIC: 9723.448095390364\n",
      "SARIMA (0, 1, 0),(1, 1, 0, 5) - AIC: 9371.969695983986\n",
      "SARIMA (0, 1, 0),(1, 1, 1, 5) - AIC: 8847.73052888655\n",
      "SARIMA (0, 1, 0),(1, 2, 0, 5) - AIC: 10322.677093672479\n",
      "SARIMA (0, 1, 0),(1, 2, 1, 5) - AIC: 9421.656883359827\n",
      "SARIMA (0, 1, 0),(2, 1, 0, 5) - AIC: 9188.646141458577\n",
      "SARIMA (0, 1, 0),(2, 1, 1, 5) - AIC: 8834.23235142199\n",
      "SARIMA (0, 1, 0),(2, 2, 0, 5) - AIC: 9941.655116739217\n",
      "SARIMA (0, 1, 0),(2, 2, 1, 5) - AIC: 9224.86524113902\n",
      "SARIMA (0, 1, 1),(0, 1, 0, 5) - AIC: 9731.208011037974\n",
      "SARIMA (0, 1, 1),(0, 1, 1, 5) - AIC: 8858.251446040755\n",
      "SARIMA (0, 1, 1),(0, 2, 0, 5) - AIC: 11047.13575276193\n",
      "SARIMA (0, 1, 1),(0, 2, 1, 5) - AIC: 10150.553652773364\n",
      "SARIMA (0, 1, 1),(1, 1, 0, 5) - AIC: 9368.372676268427\n",
      "SARIMA (0, 1, 1),(1, 1, 1, 5) - AIC: 9005.324198459452\n",
      "SARIMA (0, 1, 1),(1, 2, 0, 5) - AIC: 10313.816469926229\n",
      "SARIMA (0, 1, 1),(1, 2, 1, 5) - AIC: 9936.11851399413\n",
      "SARIMA (0, 1, 1),(2, 1, 0, 5) - AIC: 9189.022769645228\n",
      "SARIMA (0, 1, 1),(2, 1, 1, 5) - AIC: 8977.737809688682\n",
      "SARIMA (0, 1, 1),(2, 2, 0, 5) - AIC: 9939.14692399101\n",
      "SARIMA (0, 1, 1),(2, 2, 1, 5) - AIC: 9949.713200722495\n",
      "SARIMA (0, 2, 0),(0, 1, 0, 5) - AIC: 10688.94446094628\n",
      "SARIMA (0, 2, 0),(0, 1, 1, 5) - AIC: 9749.191828585797\n",
      "SARIMA (0, 2, 0),(0, 2, 0, 5) - AIC: 12012.97633355827\n",
      "SARIMA (0, 2, 0),(0, 2, 1, 5) - AIC: 10807.713522134129\n",
      "SARIMA (0, 2, 0),(1, 1, 0, 5) - AIC: 10299.49072986527\n",
      "SARIMA (0, 2, 0),(1, 1, 1, 5) - AIC: 9737.275354763657\n",
      "SARIMA (0, 2, 0),(1, 2, 0, 5) - AIC: 11283.715233320687\n",
      "SARIMA (0, 2, 0),(1, 2, 1, 5) - AIC: 10391.229674249142\n",
      "SARIMA (0, 2, 0),(2, 1, 0, 5) - AIC: 10069.957563064128\n",
      "SARIMA (0, 2, 0),(2, 1, 1, 5) - AIC: 9716.166438236394\n",
      "SARIMA (0, 2, 0),(2, 2, 0, 5) - AIC: 10856.228847492472\n",
      "SARIMA (0, 2, 0),(2, 2, 1, 5) - AIC: 10243.731759491777\n",
      "SARIMA (0, 2, 1),(0, 1, 0, 5) - AIC: 9748.15233725182\n",
      "SARIMA (0, 2, 1),(0, 1, 1, 5) - AIC: 8877.484711333918\n",
      "SARIMA (0, 2, 1),(0, 2, 0, 5) - AIC: 11076.763321597355\n",
      "SARIMA (0, 2, 1),(0, 2, 1, 5) - AIC: 10361.947685229494\n",
      "SARIMA (0, 2, 1),(1, 1, 0, 5) - AIC: 9423.780743364394\n",
      "SARIMA (0, 2, 1),(1, 1, 1, 5) - AIC: 9176.726219063412\n",
      "SARIMA (0, 2, 1),(1, 2, 0, 5) - AIC: 10379.061419904228\n",
      "SARIMA (0, 2, 1),(1, 2, 1, 5) - AIC: 10092.112869808681\n",
      "SARIMA (0, 2, 1),(2, 1, 0, 5) - AIC: 9235.652618478725\n",
      "SARIMA (0, 2, 1),(2, 1, 1, 5) - AIC: 9171.492849070879\n",
      "SARIMA (0, 2, 1),(2, 2, 0, 5) - AIC: 10263.697471243075\n",
      "SARIMA (0, 2, 1),(2, 2, 1, 5) - AIC: 10234.690862917814\n",
      "SARIMA (1, 1, 0),(0, 1, 0, 5) - AIC: 9737.952165064446\n",
      "SARIMA (1, 1, 0),(0, 1, 1, 5) - AIC: 8864.997631540893\n",
      "SARIMA (1, 1, 0),(0, 2, 0, 5) - AIC: 11055.072248612283\n",
      "SARIMA (1, 1, 0),(0, 2, 1, 5) - AIC: 10157.830320064933\n",
      "SARIMA (1, 1, 0),(1, 1, 0, 5) - AIC: 9361.667884610102\n",
      "SARIMA (1, 1, 0),(1, 1, 1, 5) - AIC: 9013.642914805125\n",
      "SARIMA (1, 1, 0),(1, 2, 0, 5) - AIC: 10306.08234674149\n",
      "SARIMA (1, 1, 0),(1, 2, 1, 5) - AIC: 9940.993082174446\n",
      "SARIMA (1, 1, 0),(2, 1, 0, 5) - AIC: 9182.595858953566\n",
      "SARIMA (1, 1, 0),(2, 1, 1, 5) - AIC: 8961.383503567067\n",
      "SARIMA (1, 1, 0),(2, 2, 0, 5) - AIC: 9931.932656335408\n",
      "SARIMA (1, 1, 0),(2, 2, 1, 5) - AIC: 9941.377609099243\n",
      "SARIMA (1, 1, 1),(0, 1, 0, 5) - AIC: 9709.867568050375\n",
      "SARIMA (1, 1, 1),(0, 1, 1, 5) - AIC: 8859.301380073128\n",
      "SARIMA (1, 1, 1),(0, 2, 0, 5) - AIC: 11049.139849669513\n",
      "SARIMA (1, 1, 1),(0, 2, 1, 5) - AIC: 10152.850349487093\n",
      "SARIMA (1, 1, 1),(1, 1, 0, 5) - AIC: 9360.791011138535\n",
      "SARIMA (1, 1, 1),(1, 1, 1, 5) - AIC: 9001.963310271201\n",
      "SARIMA (1, 1, 1),(1, 2, 0, 5) - AIC: 10300.674738954829\n",
      "SARIMA (1, 1, 1),(1, 2, 1, 5) - AIC: 9936.198420317503\n",
      "SARIMA (1, 1, 1),(2, 1, 0, 5) - AIC: 9184.529838663399\n",
      "SARIMA (1, 1, 1),(2, 1, 1, 5) - AIC: 8945.852965963646\n",
      "SARIMA (1, 1, 1),(2, 2, 0, 5) - AIC: 9933.978009421262\n",
      "SARIMA (1, 1, 1),(2, 2, 1, 5) - AIC: 9945.759598064335\n",
      "SARIMA (1, 2, 0),(0, 1, 0, 5) - AIC: 10263.144229656185\n",
      "SARIMA (1, 2, 0),(0, 1, 1, 5) - AIC: 9335.694188463905\n",
      "SARIMA (1, 2, 0),(0, 2, 0, 5) - AIC: 11588.813436973896\n",
      "SARIMA (1, 2, 0),(0, 2, 1, 5) - AIC: 10726.944222225808\n",
      "SARIMA (1, 2, 0),(1, 1, 0, 5) - AIC: 9865.899208646657\n",
      "SARIMA (1, 2, 0),(1, 1, 1, 5) - AIC: 9470.389486837115\n",
      "SARIMA (1, 2, 0),(1, 2, 0, 5) - AIC: 10821.379900381471\n",
      "SARIMA (1, 2, 0),(1, 2, 1, 5) - AIC: 10476.257045884573\n",
      "SARIMA (1, 2, 0),(2, 1, 0, 5) - AIC: 9677.769019211039\n",
      "SARIMA (1, 2, 0),(2, 1, 1, 5) - AIC: 9496.727337087697\n",
      "SARIMA (1, 2, 0),(2, 2, 0, 5) - AIC: 10437.53037234563\n",
      "SARIMA (1, 2, 0),(2, 2, 1, 5) - AIC: 10482.004103808738\n",
      "SARIMA (1, 2, 1),(0, 1, 0, 5) - AIC: 9749.846954544726\n",
      "SARIMA (1, 2, 1),(0, 1, 1, 5) - AIC: 9179.951907281344\n",
      "SARIMA (1, 2, 1),(0, 2, 0, 5) - AIC: 11073.132416042532\n",
      "SARIMA (1, 2, 1),(0, 2, 1, 5) - AIC: 10383.799163872387\n",
      "SARIMA (1, 2, 1),(1, 1, 0, 5) - AIC: 9364.554487191504\n",
      "SARIMA (1, 2, 1),(1, 1, 1, 5) - AIC: 9189.242273443668\n",
      "SARIMA (1, 2, 1),(1, 2, 0, 5) - AIC: 10352.751810167048\n",
      "SARIMA (1, 2, 1),(1, 2, 1, 5) - AIC: 10288.627450796097\n",
      "SARIMA (1, 2, 1),(2, 1, 0, 5) - AIC: 9274.043633512738\n",
      "SARIMA (1, 2, 1),(2, 1, 1, 5) - AIC: 9198.740256074625\n",
      "SARIMA (1, 2, 1),(2, 2, 0, 5) - AIC: 10417.695417478753\n",
      "SARIMA (1, 2, 1),(2, 2, 1, 5) - AIC: 10212.230601675217\n",
      "SARIMA (2, 1, 0),(0, 1, 0, 5) - AIC: 9733.149068618437\n",
      "SARIMA (2, 1, 0),(0, 1, 1, 5) - AIC: 8869.972828769194\n",
      "SARIMA (2, 1, 0),(0, 2, 0, 5) - AIC: 11049.159279714228\n",
      "SARIMA (2, 1, 0),(0, 2, 1, 5) - AIC: 10164.091030325486\n",
      "SARIMA (2, 1, 0),(1, 1, 0, 5) - AIC: 9356.802037869418\n",
      "SARIMA (2, 1, 0),(1, 1, 1, 5) - AIC: 8992.13880781808\n",
      "SARIMA (2, 1, 0),(1, 2, 0, 5) - AIC: 10300.347392628672\n",
      "SARIMA (2, 1, 0),(1, 2, 1, 5) - AIC: 9930.862630678988\n",
      "SARIMA (2, 1, 0),(2, 1, 0, 5) - AIC: 9178.118057011696\n",
      "SARIMA (2, 1, 0),(2, 1, 1, 5) - AIC: 8965.8954808321\n",
      "SARIMA (2, 1, 0),(2, 2, 0, 5) - AIC: 9926.747484702035\n",
      "SARIMA (2, 1, 0),(2, 2, 1, 5) - AIC: 9937.214207440524\n",
      "SARIMA (2, 1, 1),(0, 1, 0, 5) - AIC: 9959.928382088356\n",
      "SARIMA (2, 1, 1),(0, 1, 1, 5) - AIC: 9164.322845603756\n",
      "SARIMA (2, 1, 1),(0, 2, 0, 5) - AIC: 10947.435762214142\n",
      "SARIMA (2, 1, 1),(0, 2, 1, 5) - AIC: 10100.846222686314\n",
      "SARIMA (2, 1, 1),(1, 1, 0, 5) - AIC: 9361.663606836551\n",
      "SARIMA (2, 1, 1),(1, 1, 1, 5) - AIC: 10434.20037891876\n",
      "SARIMA (2, 1, 1),(1, 2, 0, 5) - AIC: 10364.02689055507\n",
      "SARIMA (2, 1, 1),(1, 2, 1, 5) - AIC: 10086.48124463339\n",
      "SARIMA (2, 1, 1),(2, 1, 0, 5) - AIC: 9188.51261513177\n",
      "SARIMA (2, 1, 1),(2, 1, 1, 5) - AIC: 13163.114263558713\n",
      "SARIMA (2, 1, 1),(2, 2, 0, 5) - AIC: 10173.07748137835\n",
      "SARIMA (2, 1, 1),(2, 2, 1, 5) - AIC: 10024.332183491955\n",
      "SARIMA (2, 2, 0),(0, 1, 0, 5) - AIC: 10114.58567577128\n",
      "SARIMA (2, 2, 0),(0, 1, 1, 5) - AIC: 9306.196319029248\n",
      "SARIMA (2, 2, 0),(0, 2, 0, 5) - AIC: 11429.679222723922\n",
      "SARIMA (2, 2, 0),(0, 2, 1, 5) - AIC: 10314.499040695224\n",
      "SARIMA (2, 2, 0),(1, 1, 0, 5) - AIC: 9735.380597225816\n",
      "SARIMA (2, 2, 0),(1, 1, 1, 5) - AIC: 9200.376288860552\n",
      "SARIMA (2, 2, 0),(1, 2, 0, 5) - AIC: 10686.965448841715\n",
      "SARIMA (2, 2, 0),(1, 2, 1, 5) - AIC: 10058.896466199214\n",
      "SARIMA (2, 2, 0),(2, 1, 0, 5) - AIC: 9544.74610354715\n",
      "SARIMA (2, 2, 0),(2, 1, 1, 5) - AIC: 9364.13450022856\n",
      "SARIMA (2, 2, 0),(2, 2, 0, 5) - AIC: 10306.737964523909\n",
      "SARIMA (2, 2, 0),(2, 2, 1, 5) - AIC: 10077.101391063063\n",
      "SARIMA (2, 2, 1),(0, 1, 0, 5) - AIC: 9756.844092788859\n",
      "SARIMA (2, 2, 1),(0, 1, 1, 5) - AIC: 9197.099925424625\n",
      "SARIMA (2, 2, 1),(0, 2, 0, 5) - AIC: 11063.263484598061\n",
      "SARIMA (2, 2, 1),(0, 2, 1, 5) - AIC: 10373.226400079475\n",
      "SARIMA (2, 2, 1),(1, 1, 0, 5) - AIC: 9425.222349768674\n",
      "SARIMA (2, 2, 1),(1, 1, 1, 5) - AIC: 9210.40670030166\n",
      "SARIMA (2, 2, 1),(1, 2, 0, 5) - AIC: 10567.62094611254\n",
      "SARIMA (2, 2, 1),(1, 2, 1, 5) - AIC: 10294.468589914983\n",
      "SARIMA (2, 2, 1),(2, 1, 0, 5) - AIC: 9199.3446570756\n",
      "SARIMA (2, 2, 1),(2, 1, 1, 5) - AIC: 9126.759738568931\n",
      "SARIMA (2, 2, 1),(2, 2, 0, 5) - AIC: 10032.569396479223\n",
      "SARIMA (2, 2, 1),(2, 2, 1, 5) - AIC: 10109.890370357127\n"
     ]
    }
   ],
   "source": [
    "import statsmodels.api as sm\n",
    "import pandas as pd\n",
    "\n",
    "# Assuming pdq and model_pdq are defined with appropriate parameter ranges\n",
    "# Example:\n",
    "# pdq = [(p,d,q) for p in range(3) for d in range(2) for q in range(3)]\n",
    "# model_pdq = [(p,d,q,s) for p in range(3) for d in range(2) for q in range(3) for s in [12]]\n",
    "\n",
    "# Initialize DataFrame to store AIC values\n",
    "dfobject_SARIMA = pd.DataFrame(columns=['param', 'seasonal', 'AIC'])\n",
    "\n",
    "pdq , model_pdq = pdq_creator()\n",
    "\n",
    "for param in pdq:\n",
    "    for param_seasonal in model_pdq:\n",
    "        try:\n",
    "            # Build the SARIMA model\n",
    "            model = sm.tsa.statespace.SARIMAX(y_train, \n",
    "                                              order=param,\n",
    "                                              seasonal_order=param_seasonal,\n",
    "                                              enforce_stationarity=False,\n",
    "                                              enforce_invertibility=False)\n",
    "            \n",
    "            # Fit the model\n",
    "            result_SARIMA = model.fit(maxiter=10)\n",
    "\n",
    "            # Print the AIC value for model evaluation\n",
    "            print(f\"SARIMA {param},{param_seasonal} - AIC: {result_SARIMA.aic}\")\n",
    "\n",
    "            # Store the parameters and AIC values in a DataFrame\n",
    "            dfobject_SARIMA = pd.concat([dfobject_SARIMA, pd.DataFrame([{\"param\": param, \n",
    "                                                           \"seasonal\": param_seasonal, \n",
    "                                                           \"AIC\": result_SARIMA.aic}])], \n",
    "                                 ignore_index=True)\n",
    "        \n",
    "        except Exception as e:\n",
    "            print(f\"Error fitting SARIMA {param} , {param_seasonal}: {e}\")\n"
   ]
  },
  {
   "cell_type": "code",
   "execution_count": 315,
   "metadata": {},
   "outputs": [
    {
     "data": {
      "text/plain": [
       "param          (0, 1, 0)\n",
       "seasonal    (2, 1, 1, 5)\n",
       "AIC          8834.232351\n",
       "Name: 9, dtype: object"
      ]
     },
     "execution_count": 315,
     "metadata": {},
     "output_type": "execute_result"
    }
   ],
   "source": [
    "best_param_SARIMA = dfobject_SARIMA.sort_values(by=['AIC']).iloc[0]\n",
    "best_param_SARIMA"
   ]
  },
  {
   "cell_type": "code",
   "execution_count": 316,
   "metadata": {},
   "outputs": [
    {
     "name": "stdout",
     "output_type": "stream",
     "text": [
      "                                      SARIMAX Results                                      \n",
      "===========================================================================================\n",
      "Dep. Variable:                               Close   No. Observations:                 1257\n",
      "Model:             SARIMAX(0, 1, 0)x(2, 1, [1], 5)   Log Likelihood               -4433.532\n",
      "Date:                             Thu, 14 Nov 2024   AIC                           8875.064\n",
      "Time:                                     18:53:23   BIC                           8895.591\n",
      "Sample:                                 01-01-2020   HQIC                          8882.780\n",
      "                                      - 10-24-2024                                         \n",
      "Covariance Type:                               opg                                         \n",
      "==============================================================================\n",
      "                 coef    std err          z      P>|z|      [0.025      0.975]\n",
      "------------------------------------------------------------------------------\n",
      "ar.S.L5       -0.0425      0.023     -1.825      0.068      -0.088       0.003\n",
      "ar.S.L10      -0.0521      0.024     -2.143      0.032      -0.100      -0.004\n",
      "ma.S.L5       -0.9998      0.365     -2.736      0.006      -1.716      -0.284\n",
      "sigma2        68.5395     24.678      2.777      0.005      20.172     116.907\n",
      "===================================================================================\n",
      "Ljung-Box (L1) (Q):                   0.64   Jarque-Bera (JB):               947.77\n",
      "Prob(Q):                              0.43   Prob(JB):                         0.00\n",
      "Heteroskedasticity (H):               1.30   Skew:                            -0.08\n",
      "Prob(H) (two-sided):                  0.01   Kurtosis:                         7.26\n",
      "===================================================================================\n",
      "\n",
      "Warnings:\n",
      "[1] Covariance matrix calculated using the outer product of gradients (complex-step).\n"
     ]
    }
   ],
   "source": [
    "model = sm.tsa.statespace.SARIMAX(y_train, \n",
    "                                    order=best_param_SARIMA['param'],\n",
    "                                    seasonal_order=best_param_SARIMA['seasonal'],\n",
    "                                    enforce_stationarity=True,\n",
    "                                    enforce_invertibility=True)\n",
    "result_SARIMA = model.fit()\n",
    "\n",
    "# Print model summary (AIC)\n",
    "print(result_SARIMA.summary())"
   ]
  },
  {
   "cell_type": "code",
   "execution_count": 317,
   "metadata": {},
   "outputs": [
    {
     "name": "stdout",
     "output_type": "stream",
     "text": [
      "MAPE: 9.69%\n"
     ]
    }
   ],
   "source": [
    "pred_SARIMAX_A = result_SARIMA.get_forecast(14)\n",
    "y_pred = pred_SARIMAX_A.predicted_mean\n",
    "\n",
    "# Assuming y_true contains actual values and y_pred contains predicted values\n",
    "mape = mean_absolute_percentage_error(y_test, y_pred)\n",
    "print(f\"MAPE: {mape * 100:.2f}%\")  # Multiply by 100 to express as percentage"
   ]
  },
  {
   "cell_type": "markdown",
   "metadata": {},
   "source": [
    "## ARIMAX"
   ]
  },
  {
   "cell_type": "code",
   "execution_count": 318,
   "metadata": {},
   "outputs": [
    {
     "data": {
      "text/html": [
       "<div>\n",
       "<style scoped>\n",
       "    .dataframe tbody tr th:only-of-type {\n",
       "        vertical-align: middle;\n",
       "    }\n",
       "\n",
       "    .dataframe tbody tr th {\n",
       "        vertical-align: top;\n",
       "    }\n",
       "\n",
       "    .dataframe thead th {\n",
       "        text-align: right;\n",
       "    }\n",
       "</style>\n",
       "<table border=\"1\" class=\"dataframe\">\n",
       "  <thead>\n",
       "    <tr style=\"text-align: right;\">\n",
       "      <th></th>\n",
       "      <th>Volume</th>\n",
       "      <th>Monthly_value</th>\n",
       "      <th>Pct_Change_vol</th>\n",
       "      <th>Pct_Change_close</th>\n",
       "      <th>Close_Lag1</th>\n",
       "    </tr>\n",
       "  </thead>\n",
       "  <tbody>\n",
       "    <tr>\n",
       "      <th>2020-01-01</th>\n",
       "      <td>0.197582</td>\n",
       "      <td>0.002617</td>\n",
       "      <td>-0.361401</td>\n",
       "      <td>0.624668</td>\n",
       "      <td>0.073538</td>\n",
       "    </tr>\n",
       "    <tr>\n",
       "      <th>2020-01-02</th>\n",
       "      <td>0.197582</td>\n",
       "      <td>-0.001154</td>\n",
       "      <td>-0.126639</td>\n",
       "      <td>-0.063585</td>\n",
       "      <td>-0.022296</td>\n",
       "    </tr>\n",
       "    <tr>\n",
       "      <th>2020-01-03</th>\n",
       "      <td>1.690784</td>\n",
       "      <td>0.048744</td>\n",
       "      <td>2.645390</td>\n",
       "      <td>0.651579</td>\n",
       "      <td>0.080125</td>\n",
       "    </tr>\n",
       "    <tr>\n",
       "      <th>2020-01-06</th>\n",
       "      <td>0.306389</td>\n",
       "      <td>0.056299</td>\n",
       "      <td>-1.504586</td>\n",
       "      <td>0.401103</td>\n",
       "      <td>0.046226</td>\n",
       "    </tr>\n",
       "    <tr>\n",
       "      <th>2020-01-07</th>\n",
       "      <td>1.709543</td>\n",
       "      <td>0.092328</td>\n",
       "      <td>2.323751</td>\n",
       "      <td>0.872820</td>\n",
       "      <td>0.118443</td>\n",
       "    </tr>\n",
       "  </tbody>\n",
       "</table>\n",
       "</div>"
      ],
      "text/plain": [
       "              Volume  Monthly_value  Pct_Change_vol  Pct_Change_close  \\\n",
       "2020-01-01  0.197582       0.002617       -0.361401          0.624668   \n",
       "2020-01-02  0.197582      -0.001154       -0.126639         -0.063585   \n",
       "2020-01-03  1.690784       0.048744        2.645390          0.651579   \n",
       "2020-01-06  0.306389       0.056299       -1.504586          0.401103   \n",
       "2020-01-07  1.709543       0.092328        2.323751          0.872820   \n",
       "\n",
       "            Close_Lag1  \n",
       "2020-01-01    0.073538  \n",
       "2020-01-02   -0.022296  \n",
       "2020-01-03    0.080125  \n",
       "2020-01-06    0.046226  \n",
       "2020-01-07    0.118443  "
      ]
     },
     "execution_count": 318,
     "metadata": {},
     "output_type": "execute_result"
    }
   ],
   "source": [
    "x_train.head()"
   ]
  },
  {
   "cell_type": "code",
   "execution_count": 319,
   "metadata": {},
   "outputs": [
    {
     "name": "stdout",
     "output_type": "stream",
     "text": [
      "ARIMAX (0, 1, 0) - AIC: 7425.353446970559\n",
      "ARIMAX (0, 1, 1) - AIC: 7119.049874279013\n",
      "ARIMAX (0, 2, 0) - AIC: 7688.611123129726\n",
      "ARIMAX (0, 2, 1) - AIC: 7424.833684562731\n",
      "ARIMAX (1, 1, 0) - AIC: 7264.235104686494\n",
      "ARIMAX (1, 1, 1) - AIC: 7120.54180506414\n",
      "ARIMAX (1, 2, 0) - AIC: 7671.263061091413\n",
      "ARIMAX (1, 2, 1) - AIC: 7266.860643034912\n",
      "ARIMAX (2, 1, 0) - AIC: 7205.865333788493\n",
      "ARIMAX (2, 1, 1) - AIC: 7148.547536694786\n",
      "ARIMAX (2, 2, 0) - AIC: 7372.0897454475635\n",
      "ARIMAX (2, 2, 1) - AIC: 7208.27990186344\n"
     ]
    }
   ],
   "source": [
    "import statsmodels.api as sm\n",
    "from statsmodels.tsa.arima.model import ARIMA\n",
    "import pandas as pd\n",
    "\n",
    "# Assuming pdq is a list of ARIMA (p, d, q) parameters\n",
    "# Example: pdq = [(1, 1, 1), (2, 1, 2), ...]\n",
    "\n",
    "dfobject_ARIMAX = pd.DataFrame(columns=['param', 'seasonal', 'AIC'])  # Initialize an empty dataframe to store results\n",
    "\n",
    "pdq , _ = pdq_creator()\n",
    "\n",
    "# Iterate through ARIMA parameters (p, d, q)\n",
    "for param in pdq:\n",
    "    try:\n",
    "        # Build the ARIMA model\n",
    "        model = ARIMA(y_train, exog=x_train, order=param)\n",
    "        result_ARIMA = model.fit()\n",
    "\n",
    "        # Print model summary (AIC)\n",
    "        print(f\"ARIMAX {param} - AIC: {result_ARIMA.aic}\")\n",
    "\n",
    "        # Append results (AIC value) to dataframe\n",
    "        dfobject_ARIMAX = pd.concat([dfobject_ARIMAX, pd.DataFrame([{\n",
    "            \"param\": param,\n",
    "            \"AIC\": result_ARIMA.aic\n",
    "        }])], ignore_index=True)\n",
    "        \n",
    "        \n",
    "    except Exception as e:\n",
    "        print(f\"ARIMAX {param} failed: {e}\")\n",
    "\n",
    "\n",
    "best_param_ARIMAX = dfobject_ARIMAX.sort_values(by=['AIC']).iloc[0]"
   ]
  },
  {
   "cell_type": "code",
   "execution_count": 320,
   "metadata": {},
   "outputs": [
    {
     "data": {
      "text/plain": [
       "(0, 1, 1)"
      ]
     },
     "execution_count": 320,
     "metadata": {},
     "output_type": "execute_result"
    }
   ],
   "source": [
    "best_param_ARIMAX['param']"
   ]
  },
  {
   "cell_type": "code",
   "execution_count": 321,
   "metadata": {},
   "outputs": [
    {
     "name": "stdout",
     "output_type": "stream",
     "text": [
      "                               SARIMAX Results                                \n",
      "==============================================================================\n",
      "Dep. Variable:                  Close   No. Observations:                 1257\n",
      "Model:                 ARIMA(0, 1, 1)   Log Likelihood               -3552.525\n",
      "Date:                Thu, 14 Nov 2024   AIC                           7119.050\n",
      "Time:                        18:57:21   BIC                           7155.000\n",
      "Sample:                    01-01-2020   HQIC                          7132.561\n",
      "                         - 10-24-2024                                         \n",
      "Covariance Type:                  opg                                         \n",
      "====================================================================================\n",
      "                       coef    std err          z      P>|z|      [0.025      0.975]\n",
      "------------------------------------------------------------------------------------\n",
      "Volume              -0.0668      0.072     -0.931      0.352      -0.207       0.074\n",
      "Monthly_value        0.7637      0.103      7.402      0.000       0.562       0.966\n",
      "Pct_Change_vol       0.0202      0.017      1.185      0.236      -0.013       0.053\n",
      "Pct_Change_close    -0.0009      0.036     -0.026      0.980      -0.072       0.070\n",
      "Close_Lag1           4.1447      0.027    152.831      0.000       4.092       4.198\n",
      "ma.L1                0.9988      0.008    118.292      0.000       0.982       1.015\n",
      "sigma2              16.2519      0.414     39.214      0.000      15.440      17.064\n",
      "===================================================================================\n",
      "Ljung-Box (L1) (Q):                   1.04   Jarque-Bera (JB):               781.17\n",
      "Prob(Q):                              0.31   Prob(JB):                         0.00\n",
      "Heteroskedasticity (H):               1.31   Skew:                             0.01\n",
      "Prob(H) (two-sided):                  0.01   Kurtosis:                         6.86\n",
      "===================================================================================\n",
      "\n",
      "Warnings:\n",
      "[1] Covariance matrix calculated using the outer product of gradients (complex-step).\n"
     ]
    }
   ],
   "source": [
    "model = ARIMA(y_train, exog=x_train, order=best_param_ARIMAX['param'])\n",
    "result_ARIMAX = model.fit()\n",
    "\n",
    "# Print model summary (AIC)\n",
    "print(result_ARIMAX.summary())"
   ]
  },
  {
   "cell_type": "code",
   "execution_count": 323,
   "metadata": {},
   "outputs": [
    {
     "name": "stdout",
     "output_type": "stream",
     "text": [
      "MAPE: 8.98%\n"
     ]
    }
   ],
   "source": [
    "pred_SARIMAX_A = result_ARIMAX.get_prediction(\n",
    "    start=x_test.index[0],    # start of the test set\n",
    "    end=x_test.index[-1],     # end of the test set\n",
    "    exog=x_test     # providing exogenous variable(s)\n",
    ")\n",
    "y_pred = pred_SARIMAX_A.predicted_mean\n",
    "\n",
    "# Assuming y_true contains actual values and y_pred contains predicted values\n",
    "mape = mean_absolute_percentage_error(y_test, y_pred)\n",
    "print(f\"MAPE: {mape * 100:.2f}%\")  # Multiply by 100 to express as percentage"
   ]
  },
  {
   "cell_type": "markdown",
   "metadata": {},
   "source": [
    "## SARIMAX"
   ]
  },
  {
   "cell_type": "code",
   "execution_count": 324,
   "metadata": {},
   "outputs": [
    {
     "name": "stdout",
     "output_type": "stream",
     "text": [
      "SARIMAX (0, 1, 0),(0, 1, 0, 5) - AIC:8256.138941968527\n",
      "SARIMAX (0, 1, 0),(0, 1, 1, 5) - AIC:7382.533141094898\n",
      "SARIMAX (0, 1, 0),(0, 2, 0, 5) - AIC:9586.720323344802\n",
      "SARIMAX (0, 1, 0),(0, 2, 1, 5) - AIC:8225.637591436303\n",
      "SARIMAX (0, 1, 0),(1, 1, 0, 5) - AIC:7889.645716110002\n",
      "SARIMAX (0, 1, 0),(1, 1, 1, 5) - AIC:7384.529931704135\n",
      "SARIMAX (0, 1, 0),(1, 2, 0, 5) - AIC:8826.213540802964\n",
      "SARIMAX (0, 1, 0),(1, 2, 1, 5) - AIC:7886.422278982424\n",
      "SARIMAX (0, 1, 0),(2, 1, 0, 5) - AIC:7741.918187978502\n",
      "SARIMAX (0, 1, 0),(2, 1, 1, 5) - AIC:7366.917299706885\n",
      "SARIMAX (0, 1, 0),(2, 2, 0, 5) - AIC:8485.046550546002\n",
      "SARIMAX (0, 1, 0),(2, 2, 1, 5) - AIC:7745.321635377895\n",
      "SARIMAX (0, 1, 1),(0, 1, 0, 5) - AIC:7980.0889758571\n",
      "SARIMAX (0, 1, 1),(0, 1, 1, 5) - AIC:7078.26248602154\n",
      "SARIMAX (0, 1, 1),(0, 2, 0, 5) - AIC:9289.047021399729\n",
      "SARIMAX (0, 1, 1),(0, 2, 1, 5) - AIC:7950.862155956314\n",
      "SARIMAX (0, 1, 1),(1, 1, 0, 5) - AIC:7643.497435437343\n",
      "SARIMAX (0, 1, 1),(1, 1, 1, 5) - AIC:7087.68017362247\n",
      "SARIMAX (0, 1, 1),(1, 2, 0, 5) - AIC:8588.198560382725\n",
      "SARIMAX (0, 1, 1),(1, 2, 1, 5) - AIC:7634.634189593141\n",
      "SARIMAX (0, 1, 1),(2, 1, 0, 5) - AIC:7437.3322517274755\n",
      "SARIMAX (0, 1, 1),(2, 1, 1, 5) - AIC:7066.155130852742\n",
      "SARIMAX (0, 1, 1),(2, 2, 0, 5) - AIC:8191.911037876806\n",
      "SARIMAX (0, 1, 1),(2, 2, 1, 5) - AIC:7456.432674425165\n",
      "SARIMAX (0, 2, 0),(0, 1, 0, 5) - AIC:8569.834581772378\n",
      "SARIMAX (0, 2, 0),(0, 1, 1, 5) - AIC:7643.220820956909\n",
      "SARIMAX (0, 2, 0),(0, 2, 0, 5) - AIC:9907.49799371119\n",
      "SARIMAX (0, 2, 0),(0, 2, 1, 5) - AIC:8536.284937732402\n",
      "SARIMAX (0, 2, 0),(1, 1, 0, 5) - AIC:8180.620556131124\n",
      "SARIMAX (0, 2, 0),(1, 1, 1, 5) - AIC:7643.8656334220095\n",
      "SARIMAX (0, 2, 0),(1, 2, 0, 5) - AIC:9138.918004808336\n",
      "SARIMAX (0, 2, 0),(1, 2, 1, 5) - AIC:8175.899900488012\n",
      "SARIMAX (0, 2, 0),(2, 1, 0, 5) - AIC:8007.5111183186245\n",
      "SARIMAX (0, 2, 0),(2, 1, 1, 5) - AIC:7622.986682290609\n",
      "SARIMAX (0, 2, 0),(2, 2, 0, 5) - AIC:8765.861695406038\n",
      "SARIMAX (0, 2, 0),(2, 2, 1, 5) - AIC:8009.79573160906\n",
      "SARIMAX (0, 2, 1),(0, 1, 0, 5) - AIC:8252.929176300004\n",
      "SARIMAX (0, 2, 1),(0, 1, 1, 5) - AIC:7380.089285608579\n",
      "SARIMAX (0, 2, 1),(0, 2, 0, 5) - AIC:9581.353165605811\n",
      "SARIMAX (0, 2, 1),(0, 2, 1, 5) - AIC:8231.378077520938\n",
      "SARIMAX (0, 2, 1),(1, 1, 0, 5) - AIC:7893.450950061339\n",
      "SARIMAX (0, 2, 1),(1, 1, 1, 5) - AIC:7382.543573886738\n",
      "SARIMAX (0, 2, 1),(1, 2, 0, 5) - AIC:8829.474176860427\n",
      "SARIMAX (0, 2, 1),(1, 2, 1, 5) - AIC:7892.852572769415\n",
      "SARIMAX (0, 2, 1),(2, 1, 0, 5) - AIC:7747.337197549756\n",
      "SARIMAX (0, 2, 1),(2, 1, 1, 5) - AIC:7369.373141692253\n",
      "SARIMAX (0, 2, 1),(2, 2, 0, 5) - AIC:8488.3098169556\n",
      "SARIMAX (0, 2, 1),(2, 2, 1, 5) - AIC:7759.929422514677\n",
      "SARIMAX (1, 1, 0),(0, 1, 0, 5) - AIC:8120.2822095810825\n",
      "SARIMAX (1, 1, 0),(0, 1, 1, 5) - AIC:7223.512924159743\n",
      "SARIMAX (1, 1, 0),(0, 2, 0, 5) - AIC:9454.793483767367\n",
      "SARIMAX (1, 1, 0),(0, 2, 1, 5) - AIC:8090.701753988423\n",
      "SARIMAX (1, 1, 0),(1, 1, 0, 5) - AIC:7739.595183203103\n",
      "SARIMAX (1, 1, 0),(1, 1, 1, 5) - AIC:7226.137512416647\n",
      "SARIMAX (1, 1, 0),(1, 2, 0, 5) - AIC:8686.501160303686\n",
      "SARIMAX (1, 1, 0),(1, 2, 1, 5) - AIC:7742.378220924282\n",
      "SARIMAX (1, 1, 0),(2, 1, 0, 5) - AIC:7580.258885805235\n",
      "SARIMAX (1, 1, 0),(2, 1, 1, 5) - AIC:7201.870313272211\n",
      "SARIMAX (1, 1, 0),(2, 2, 0, 5) - AIC:8330.210674227055\n",
      "SARIMAX (1, 1, 0),(2, 2, 1, 5) - AIC:7583.869354233344\n",
      "SARIMAX (1, 1, 1),(0, 1, 0, 5) - AIC:7981.450236422259\n",
      "SARIMAX (1, 1, 1),(0, 1, 1, 5) - AIC:7079.152822673317\n",
      "SARIMAX (1, 1, 1),(0, 2, 0, 5) - AIC:9289.709641206427\n",
      "SARIMAX (1, 1, 1),(0, 2, 1, 5) - AIC:7960.166730649963\n",
      "SARIMAX (1, 1, 1),(1, 1, 0, 5) - AIC:7639.889569645453\n",
      "SARIMAX (1, 1, 1),(1, 1, 1, 5) - AIC:7086.854669840016\n",
      "SARIMAX (1, 1, 1),(1, 2, 0, 5) - AIC:8583.666196742379\n",
      "SARIMAX (1, 1, 1),(1, 2, 1, 5) - AIC:7642.727199971627\n",
      "SARIMAX (1, 1, 1),(2, 1, 0, 5) - AIC:7433.077731221327\n",
      "SARIMAX (1, 1, 1),(2, 1, 1, 5) - AIC:7072.28011228373\n",
      "SARIMAX (1, 1, 1),(2, 2, 0, 5) - AIC:8184.858161450571\n",
      "SARIMAX (1, 1, 1),(2, 2, 1, 5) - AIC:7471.530883680663\n",
      "SARIMAX (1, 2, 0),(0, 1, 0, 5) - AIC:8542.33889618991\n",
      "SARIMAX (1, 2, 0),(0, 1, 1, 5) - AIC:7624.801493223129\n",
      "SARIMAX (1, 2, 0),(0, 2, 0, 5) - AIC:9879.32997707666\n",
      "SARIMAX (1, 2, 0),(0, 2, 1, 5) - AIC:8509.065836774374\n",
      "SARIMAX (1, 2, 0),(1, 1, 0, 5) - AIC:8149.83380918456\n",
      "SARIMAX (1, 2, 0),(1, 1, 1, 5) - AIC:7625.932573161916\n",
      "SARIMAX (1, 2, 0),(1, 2, 0, 5) - AIC:9102.1109874887\n",
      "SARIMAX (1, 2, 0),(1, 2, 1, 5) - AIC:8150.848514445118\n",
      "SARIMAX (1, 2, 0),(2, 1, 0, 5) - AIC:7982.763909027737\n",
      "SARIMAX (1, 2, 0),(2, 1, 1, 5) - AIC:7600.393338266498\n",
      "SARIMAX (1, 2, 0),(2, 2, 0, 5) - AIC:8735.761572872998\n",
      "SARIMAX (1, 2, 0),(2, 2, 1, 5) - AIC:7984.359479315426\n",
      "SARIMAX (1, 2, 1),(0, 1, 0, 5) - AIC:8116.9840894713225\n",
      "SARIMAX (1, 2, 1),(0, 1, 1, 5) - AIC:7228.202941705972\n",
      "SARIMAX (1, 2, 1),(0, 2, 0, 5) - AIC:9449.326269461268\n",
      "SARIMAX (1, 2, 1),(0, 2, 1, 5) - AIC:8094.422916096235\n",
      "SARIMAX (1, 2, 1),(1, 1, 0, 5) - AIC:7742.468165725946\n",
      "SARIMAX (1, 2, 1),(1, 1, 1, 5) - AIC:7231.151468724898\n",
      "SARIMAX (1, 2, 1),(1, 2, 0, 5) - AIC:8688.443948292035\n",
      "SARIMAX (1, 2, 1),(1, 2, 1, 5) - AIC:7747.596208028039\n",
      "SARIMAX (1, 2, 1),(2, 1, 0, 5) - AIC:7583.13211571964\n",
      "SARIMAX (1, 2, 1),(2, 1, 1, 5) - AIC:7212.1207830853045\n",
      "SARIMAX (1, 2, 1),(2, 2, 0, 5) - AIC:8332.616027878305\n",
      "SARIMAX (1, 2, 1),(2, 2, 1, 5) - AIC:7595.012191236325\n",
      "SARIMAX (2, 1, 0),(0, 1, 0, 5) - AIC:8063.752566708368\n",
      "SARIMAX (2, 1, 0),(0, 1, 1, 5) - AIC:7170.530275271192\n",
      "SARIMAX (2, 1, 0),(0, 2, 0, 5) - AIC:9395.877903129718\n",
      "SARIMAX (2, 1, 0),(0, 2, 1, 5) - AIC:8040.359365368007\n",
      "SARIMAX (2, 1, 0),(1, 1, 0, 5) - AIC:7684.770139327681\n",
      "SARIMAX (2, 1, 0),(1, 1, 1, 5) - AIC:7167.038132109373\n",
      "SARIMAX (2, 1, 0),(1, 2, 0, 5) - AIC:8634.120266568512\n",
      "SARIMAX (2, 1, 0),(1, 2, 1, 5) - AIC:7687.140224824863\n",
      "SARIMAX (2, 1, 0),(2, 1, 0, 5) - AIC:7519.479483520012\n",
      "SARIMAX (2, 1, 0),(2, 1, 1, 5) - AIC:7142.955085609911\n",
      "SARIMAX (2, 1, 0),(2, 2, 0, 5) - AIC:8272.940801194944\n",
      "SARIMAX (2, 1, 0),(2, 2, 1, 5) - AIC:7522.317004961655\n",
      "SARIMAX (2, 1, 1),(0, 1, 0, 5) - AIC:7964.996901039666\n",
      "SARIMAX (2, 1, 1),(0, 1, 1, 5) - AIC:7109.161465483672\n",
      "SARIMAX (2, 1, 1),(0, 2, 0, 5) - AIC:9260.819846667746\n",
      "SARIMAX (2, 1, 1),(0, 2, 1, 5) - AIC:7922.076708862393\n",
      "SARIMAX (2, 1, 1),(1, 1, 0, 5) - AIC:7631.959977919674\n",
      "SARIMAX (2, 1, 1),(1, 1, 1, 5) - AIC:7111.136768774037\n",
      "SARIMAX (2, 1, 1),(1, 2, 0, 5) - AIC:8495.922997902771\n",
      "SARIMAX (2, 1, 1),(1, 2, 1, 5) - AIC:7647.277423343387\n",
      "SARIMAX (2, 1, 1),(2, 1, 0, 5) - AIC:7429.722431461287\n",
      "SARIMAX (2, 1, 1),(2, 1, 1, 5) - AIC:7060.668505477297\n",
      "SARIMAX (2, 1, 1),(2, 2, 0, 5) - AIC:8189.026723058506\n",
      "SARIMAX (2, 1, 1),(2, 2, 1, 5) - AIC:7469.3471667651265\n",
      "SARIMAX (2, 2, 0),(0, 1, 0, 5) - AIC:8250.75563190841\n",
      "SARIMAX (2, 2, 0),(0, 1, 1, 5) - AIC:7334.56077650702\n",
      "SARIMAX (2, 2, 0),(0, 2, 0, 5) - AIC:9585.352227009076\n",
      "SARIMAX (2, 2, 0),(0, 2, 1, 5) - AIC:8226.884163733088\n",
      "SARIMAX (2, 2, 0),(1, 1, 0, 5) - AIC:7864.223382694832\n",
      "SARIMAX (2, 2, 0),(1, 1, 1, 5) - AIC:7328.585291895337\n",
      "SARIMAX (2, 2, 0),(1, 2, 0, 5) - AIC:8815.843686312244\n",
      "SARIMAX (2, 2, 0),(1, 2, 1, 5) - AIC:7866.369949269661\n",
      "SARIMAX (2, 2, 0),(2, 1, 0, 5) - AIC:7695.778958621319\n",
      "SARIMAX (2, 2, 0),(2, 1, 1, 5) - AIC:7302.396768589608\n",
      "SARIMAX (2, 2, 0),(2, 2, 0, 5) - AIC:8463.67758767266\n",
      "SARIMAX (2, 2, 0),(2, 2, 1, 5) - AIC:7698.321921201559\n",
      "SARIMAX (2, 2, 1),(0, 1, 0, 5) - AIC:8174.7135727500245\n",
      "SARIMAX (2, 2, 1),(0, 1, 1, 5) - AIC:7174.722921353398\n",
      "SARIMAX (2, 2, 1),(0, 2, 0, 5) - AIC:9421.943143641947\n",
      "SARIMAX (2, 2, 1),(0, 2, 1, 5) - AIC:8044.795345030373\n",
      "SARIMAX (2, 2, 1),(1, 1, 0, 5) - AIC:7687.796663252879\n",
      "SARIMAX (2, 2, 1),(1, 1, 1, 5) - AIC:7176.112897580926\n",
      "SARIMAX (2, 2, 1),(1, 2, 0, 5) - AIC:8636.421313089551\n",
      "SARIMAX (2, 2, 1),(1, 2, 1, 5) - AIC:7698.4586393965155\n",
      "SARIMAX (2, 2, 1),(2, 1, 0, 5) - AIC:7522.627673212743\n",
      "SARIMAX (2, 2, 1),(2, 1, 1, 5) - AIC:7152.386190414106\n",
      "SARIMAX (2, 2, 1),(2, 2, 0, 5) - AIC:8275.425862097556\n",
      "SARIMAX (2, 2, 1),(2, 2, 1, 5) - AIC:7533.861700835367\n"
     ]
    }
   ],
   "source": [
    "# Lets build the model\n",
    "\n",
    "import statsmodels.api as sm\n",
    "from statsmodels.tsa.arima.model import ARIMA\n",
    "\n",
    "dfobject_SARIMAX = pd.DataFrame(columns=['param', 'seasonal', 'AIC'])\n",
    "\n",
    "pdq , model_pdq = pdq_creator()\n",
    "\n",
    "for param in pdq:\n",
    "    for param_seasonal in model_pdq:\n",
    "        model = sm.tsa.statespace.SARIMAX(y_train, \n",
    "                                          exog=x_train,\n",
    "                                          order = param,\n",
    "                                          seasonal_order= param_seasonal,\n",
    "                                          enforce_stationarity= False,\n",
    "                                          enforce_invertibility=False)\n",
    "        \n",
    "        result_SARIMAX = model.fit()\n",
    "\n",
    "        print(\"SARIMAX {},{} - AIC:{}\".format(param, param_seasonal, result_SARIMAX.aic))\n",
    "\n",
    "        dfobject_SARIMAX = pd.concat([dfobject_SARIMAX, \n",
    "                                    pd.DataFrame([{\"param\":param, \n",
    "                                                   \"seasonal\":param_seasonal,\n",
    "                                                   \"AIC\" : result_SARIMAX.aic}])], \n",
    "                                                   ignore_index=True)"
   ]
  },
  {
   "cell_type": "code",
   "execution_count": 325,
   "metadata": {},
   "outputs": [
    {
     "data": {
      "text/plain": [
       "param          (2, 1, 1)\n",
       "seasonal    (2, 1, 1, 5)\n",
       "AIC          7060.668505\n",
       "Name: 117, dtype: object"
      ]
     },
     "execution_count": 325,
     "metadata": {},
     "output_type": "execute_result"
    }
   ],
   "source": [
    "dfobject_SARIMAX.sort_values(by=['AIC']).iloc[0]"
   ]
  },
  {
   "cell_type": "markdown",
   "metadata": {},
   "source": [
    "## Final Model"
   ]
  },
  {
   "cell_type": "code",
   "execution_count": 326,
   "metadata": {},
   "outputs": [
    {
     "name": "stdout",
     "output_type": "stream",
     "text": [
      "                                      SARIMAX Results                                      \n",
      "===========================================================================================\n",
      "Dep. Variable:                               Close   No. Observations:                 1257\n",
      "Model:             SARIMAX(0, 1, 0)x(2, 1, [1], 5)   Log Likelihood               -4402.668\n",
      "Date:                             Thu, 14 Nov 2024   AIC                           8813.336\n",
      "Time:                                     19:32:05   BIC                           8833.830\n",
      "Sample:                                 01-01-2020   HQIC                          8821.043\n",
      "                                      - 10-24-2024                                         \n",
      "Covariance Type:                               opg                                         \n",
      "==============================================================================\n",
      "                 coef    std err          z      P>|z|      [0.025      0.975]\n",
      "------------------------------------------------------------------------------\n",
      "ar.S.L5       -0.0443      0.024     -1.882      0.060      -0.091       0.002\n",
      "ar.S.L10      -0.0046      0.024     -0.196      0.845      -0.051       0.042\n",
      "ma.S.L5       -1.0000     36.634     -0.027      0.978     -72.802      70.802\n",
      "sigma2        69.2685   2538.055      0.027      0.978   -4905.228    5043.765\n",
      "===================================================================================\n",
      "Ljung-Box (L1) (Q):                   0.82   Jarque-Bera (JB):               907.56\n",
      "Prob(Q):                              0.36   Prob(JB):                         0.00\n",
      "Heteroskedasticity (H):               1.28   Skew:                            -0.07\n",
      "Prob(H) (two-sided):                  0.01   Kurtosis:                         7.19\n",
      "===================================================================================\n",
      "\n",
      "Warnings:\n",
      "[1] Covariance matrix calculated using the outer product of gradients (complex-step).\n"
     ]
    }
   ],
   "source": [
    "best_model = {'param' : dfobject_SARIMA.sort_values(by=['AIC']).iloc[0]['param'] ,\n",
    "'seasonal' : dfobject_SARIMA.sort_values(by=['AIC']).iloc[0]['seasonal']  }\n",
    "\n",
    "\n",
    "model = sm.tsa.statespace.SARIMAX(y_train ,\n",
    "                                order= best_model['param'], seasonal_order = best_model['seasonal'],\n",
    "                        enforce_stationarity= False,enforce_invertibility=False)\n",
    "result = model.fit()\n",
    "print(result.summary())"
   ]
  },
  {
   "cell_type": "code",
   "execution_count": 327,
   "metadata": {},
   "outputs": [
    {
     "name": "stdout",
     "output_type": "stream",
     "text": [
      "MAPE: 9.48%\n"
     ]
    }
   ],
   "source": [
    "pred_SARIMAX_A = result.get_prediction(\n",
    "    start=x_test.index[0],    # start of the test set\n",
    "    end=x_test.index[-1],     # end of the test set\n",
    "    exog=x_test     # providing exogenous variable(s)\n",
    ")\n",
    "y_pred = pred_SARIMAX_A.predicted_mean\n",
    "\n",
    "# Assuming y_true contains actual values and y_pred contains predicted values\n",
    "mape = mean_absolute_percentage_error(y_test, y_pred)\n",
    "print(f\"MAPE: {mape * 100:.2f}%\")  # Multiply by 100 to express as percentage"
   ]
  },
  {
   "cell_type": "code",
   "execution_count": 328,
   "metadata": {},
   "outputs": [
    {
     "data": {
      "image/png": "[encoded data removed]",
      "text/plain": [
       "<Figure size 640x480 with 1 Axes>"
      ]
     },
     "metadata": {},
     "output_type": "display_data"
    }
   ],
   "source": [
    "plt.plot(y_train, label=\"Training Data\")\n",
    "plt.plot(y_test, label=\"Test Data\")\n",
    "plt.legend(loc='best')\n",
    "plt.grid();"
   ]
  },
  {
   "cell_type": "code",
   "execution_count": null,
   "metadata": {},
   "outputs": [],
   "source": [
    "plt.plot(y_train, label=\"Training Data\")\n",
    "plt.plot(y_test, label=\"Test Data\")\n",
    "plt.plot(x_test.index, y_pred, label='Predicted Model - SARIMAX')\n",
    "plt.legend(loc='best')\n",
    "plt.grid();"
   ]
  },
  {
   "cell_type": "code",
   "execution_count": null,
   "metadata": {},
   "outputs": [],
   "source": [
    "# To get confidence intervals\n",
    "confidence_intervals = pred_SARIMAX.conf_int(alpha=0.05)\n",
    "print(confidence_intervals)"
   ]
  },
  {
   "cell_type": "code",
   "execution_count": null,
   "metadata": {},
   "outputs": [],
   "source": []
  },
  {
   "cell_type": "code",
   "execution_count": null,
   "metadata": {},
   "outputs": [],
   "source": []
  },
  {
   "cell_type": "code",
   "execution_count": null,
   "metadata": {},
   "outputs": [],
   "source": []
  },
  {
   "cell_type": "code",
   "execution_count": null,
   "metadata": {},
   "outputs": [],
   "source": []
  },
  {
   "cell_type": "code",
   "execution_count": null,
   "metadata": {},
   "outputs": [],
   "source": []
  },
  {
   "cell_type": "code",
   "execution_count": null,
   "metadata": {},
   "outputs": [],
   "source": []
  },
  {
   "cell_type": "code",
   "execution_count": null,
   "metadata": {},
   "outputs": [],
   "source": []
  },
  {
   "cell_type": "code",
   "execution_count": null,
   "metadata": {},
   "outputs": [],
   "source": []
  },
  {
   "cell_type": "code",
   "execution_count": null,
   "metadata": {},
   "outputs": [],
   "source": []
  },
  {
   "cell_type": "code",
   "execution_count": null,
   "metadata": {},
   "outputs": [],
   "source": []
  },
  {
   "cell_type": "code",
   "execution_count": null,
   "metadata": {},
   "outputs": [],
   "source": []
  }
 ],
 "metadata": {
  "kernelspec": {
   "display_name": "finance",
   "language": "python",
   "name": "python3"
  },
  "language_info": {
   "codemirror_mode": {
    "name": "ipython",
    "version": 3
   },
   "file_extension": ".py",
   "mimetype": "text/x-python",
   "name": "python",
   "nbconvert_exporter": "python",
   "pygments_lexer": "ipython3",
   "version": "3.9.19"
  }
 },
 "nbformat": 4,
 "nbformat_minor": 2
}
